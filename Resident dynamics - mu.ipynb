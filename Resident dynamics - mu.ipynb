{
 "cells": [
  {
   "cell_type": "code",
   "execution_count": 49,
   "metadata": {},
   "outputs": [],
   "source": [
    "import numpy as np\n",
    "import matplotlib.pyplot as plt\n",
    "from scipy.integrate import odeint\n",
    "%matplotlib inline"
   ]
  },
  {
   "cell_type": "code",
   "execution_count": 50,
   "metadata": {},
   "outputs": [],
   "source": [
    "def resident(x, t):\n",
    "    lamda = (beta1*(x[1]+x[2]))\n",
    "    sdot = rho - mu*x[0] - sigmaS*lamda*x[0]\n",
    "    i1dot = sigmaS*lamda*x[0] - (mu+alpha1+(sigmaI*lamda))*x[1]\n",
    "    d11dot = sigmaI*lamda*x[1] - (mu+alpha1)*x[2]\n",
    "    return sdot,i1dot,d11dot"
   ]
  },
  {
   "cell_type": "code",
   "execution_count": 51,
   "metadata": {},
   "outputs": [],
   "source": [
    "mu = 0.02\n",
    "rho = 0.02\n",
    "sigmaS = 1\n",
    "sigmaI = 5\n",
    "\n",
    "beta1=0.75\n",
    "alpha1 = 0.1 - 0.157**2/0.2*(1 - np.exp(0.2*(beta1 - 0.75)/0.157))"
   ]
  },
  {
   "cell_type": "code",
   "execution_count": 52,
   "metadata": {},
   "outputs": [],
   "source": [
    "tmax2 = 2000\n",
    "ts2 = np.linspace(0,200,tmax2)"
   ]
  },
  {
   "cell_type": "markdown",
   "metadata": {},
   "source": [
    "# $\\mu=0$"
   ]
  },
  {
   "cell_type": "code",
   "execution_count": 53,
   "metadata": {},
   "outputs": [],
   "source": [
    "mu = 0"
   ]
  },
  {
   "cell_type": "code",
   "execution_count": 54,
   "metadata": {},
   "outputs": [],
   "source": [
    "x0 = [0.8,0.5,0.05]\n",
    "xs = odeint(resident,x0,ts2)\n",
    "Ss = xs[:,0]\n",
    "I1s = xs[:,1]\n",
    "D11s = xs[:,2]\n",
    "\n",
    "S=Ss[1999]\n",
    "I1=I1s[1999]\n",
    "D11=D11s[1999]\n",
    "\n",
    "S2=Ss[999]\n",
    "I12=I1s[999]\n",
    "D112=D11s[999]"
   ]
  },
  {
   "cell_type": "code",
   "execution_count": 55,
   "metadata": {},
   "outputs": [
    {
     "name": "stdout",
     "output_type": "stream",
     "text": [
      "S = 0.13333342816303922 I1 = 0.023529430987021413 D11 = 0.17647056119636084\n"
     ]
    }
   ],
   "source": [
    "print(\"S =\",S, \"I1 =\",I1, \"D11 =\", D11)"
   ]
  },
  {
   "cell_type": "code",
   "execution_count": 56,
   "metadata": {},
   "outputs": [
    {
     "name": "stdout",
     "output_type": "stream",
     "text": [
      "S2 = 0.1331515183027128 I12 = 0.023494956400080293 D112 = 0.17658449695532935\n"
     ]
    }
   ],
   "source": [
    "print(\"S2 =\",S2, \"I12 =\",I12, \"D112 =\", D112)"
   ]
  },
  {
   "cell_type": "code",
   "execution_count": 57,
   "metadata": {},
   "outputs": [
    {
     "data": {
      "image/png": "[encoded data removed]",
      "text/plain": [
       "<Figure size 432x288 with 1 Axes>"
      ]
     },
     "metadata": {
      "needs_background": "light"
     },
     "output_type": "display_data"
    }
   ],
   "source": [
    "# Time Course\n",
    "plt.plot(ts2,Ss)\n",
    "plt.plot(ts2,I1s)\n",
    "plt.plot(ts2,D11s)\n",
    "plt.xlabel('Time', fontsize=14)\n",
    "plt.ylabel('Numbers', fontsize=14)\n",
    "plt.xlim((0,200))\n",
    "plt.ylim((0))\n",
    "plt.legend(['S', r'$I_1$', r'$D_{11}$'], loc='upper right')\n",
    "plt.show()"
   ]
  },
  {
   "cell_type": "markdown",
   "metadata": {},
   "source": [
    "# $\\mu=0.001$"
   ]
  },
  {
   "cell_type": "code",
   "execution_count": 58,
   "metadata": {},
   "outputs": [],
   "source": [
    "mu = 0.001"
   ]
  },
  {
   "cell_type": "code",
   "execution_count": 59,
   "metadata": {},
   "outputs": [],
   "source": [
    "x0 = [0.8,0.5,0.05]\n",
    "xs = odeint(resident,x0,ts2)\n",
    "Ss = xs[:,0]\n",
    "I1s = xs[:,1]\n",
    "D11s = xs[:,2]\n",
    "\n",
    "S=Ss[1999]\n",
    "I1=I1s[1999]\n",
    "D11=D11s[1999]\n",
    "\n",
    "S2=Ss[999]\n",
    "I12=I1s[999]\n",
    "D112=D11s[999]"
   ]
  },
  {
   "cell_type": "code",
   "execution_count": 60,
   "metadata": {},
   "outputs": [
    {
     "name": "stdout",
     "output_type": "stream",
     "text": [
      "S = 0.13466676545211992 I1 = 0.023689434679361354 D11 = 0.17299703023813914\n"
     ]
    }
   ],
   "source": [
    "print(\"S =\",S, \"I1 =\",I1, \"D11 =\", D11)"
   ]
  },
  {
   "cell_type": "code",
   "execution_count": 61,
   "metadata": {},
   "outputs": [
    {
     "name": "stdout",
     "output_type": "stream",
     "text": [
      "S2 = 0.1344752293514904 I12 = 0.023653059355498555 D112 = 0.1731090387113388\n"
     ]
    }
   ],
   "source": [
    "print(\"S2 =\",S2, \"I12 =\",I12, \"D112 =\", D112)"
   ]
  },
  {
   "cell_type": "code",
   "execution_count": 62,
   "metadata": {},
   "outputs": [
    {
     "data": {
      "image/png": "[encoded data removed]",
      "text/plain": [
       "<Figure size 432x288 with 1 Axes>"
      ]
     },
     "metadata": {
      "needs_background": "light"
     },
     "output_type": "display_data"
    }
   ],
   "source": [
    "# Time Course\n",
    "plt.plot(ts2,Ss)\n",
    "plt.plot(ts2,I1s)\n",
    "plt.plot(ts2,D11s)\n",
    "plt.xlabel('Time', fontsize=14)\n",
    "plt.ylabel('Numbers', fontsize=14)\n",
    "plt.xlim((0,200))\n",
    "plt.ylim((0))\n",
    "plt.legend(['S', r'$I_1$', r'$D_{11}$'], loc='upper right')\n",
    "plt.show()"
   ]
  },
  {
   "cell_type": "markdown",
   "metadata": {},
   "source": [
    "# $\\mu=0.002$"
   ]
  },
  {
   "cell_type": "code",
   "execution_count": 63,
   "metadata": {},
   "outputs": [],
   "source": [
    "mu = 0.002"
   ]
  },
  {
   "cell_type": "code",
   "execution_count": 64,
   "metadata": {},
   "outputs": [],
   "source": [
    "x0 = [0.8,0.5,0.05]\n",
    "xs = odeint(resident,x0,ts2)\n",
    "Ss = xs[:,0]\n",
    "I1s = xs[:,1]\n",
    "D11s = xs[:,2]\n",
    "\n",
    "S=Ss[1999]\n",
    "I1=I1s[1999]\n",
    "D11=D11s[1999]\n",
    "\n",
    "S2=Ss[999]\n",
    "I12=I1s[999]\n",
    "D112=D11s[999]"
   ]
  },
  {
   "cell_type": "code",
   "execution_count": 65,
   "metadata": {},
   "outputs": [
    {
     "name": "stdout",
     "output_type": "stream",
     "text": [
      "S = 0.13600009067937416 I1 = 0.02384643548460891 D11 = 0.16956534200032555\n"
     ]
    }
   ],
   "source": [
    "print(\"S =\",S, \"I1 =\",I1, \"D11 =\", D11)"
   ]
  },
  {
   "cell_type": "code",
   "execution_count": 66,
   "metadata": {},
   "outputs": [
    {
     "name": "stdout",
     "output_type": "stream",
     "text": [
      "S2 = 0.13579855203358163 I12 = 0.023808092262951608 D112 = 0.16967548914568126\n"
     ]
    }
   ],
   "source": [
    "print(\"S2 =\",S2, \"I12 =\",I12, \"D112 =\", D112)"
   ]
  },
  {
   "cell_type": "code",
   "execution_count": 67,
   "metadata": {},
   "outputs": [
    {
     "data": {
      "image/png": "[encoded data removed]",
      "text/plain": [
       "<Figure size 432x288 with 1 Axes>"
      ]
     },
     "metadata": {
      "needs_background": "light"
     },
     "output_type": "display_data"
    }
   ],
   "source": [
    "# Time Course\n",
    "plt.plot(ts2,Ss)\n",
    "plt.plot(ts2,I1s)\n",
    "plt.plot(ts2,D11s)\n",
    "plt.xlabel('Time', fontsize=14)\n",
    "plt.ylabel('Numbers', fontsize=14)\n",
    "plt.xlim((0,200))\n",
    "plt.ylim((0))\n",
    "plt.legend(['S', r'$I_1$', r'$D_{11}$'], loc='upper right')\n",
    "plt.show()"
   ]
  },
  {
   "cell_type": "markdown",
   "metadata": {},
   "source": [
    "# $\\mu=0.003$"
   ]
  },
  {
   "cell_type": "code",
   "execution_count": 68,
   "metadata": {},
   "outputs": [],
   "source": [
    "mu = 0.003"
   ]
  },
  {
   "cell_type": "code",
   "execution_count": 69,
   "metadata": {},
   "outputs": [],
   "source": [
    "x0 = [0.8,0.5,0.05]\n",
    "xs = odeint(resident,x0,ts2)\n",
    "Ss = xs[:,0]\n",
    "I1s = xs[:,1]\n",
    "D11s = xs[:,2]\n",
    "\n",
    "S=Ss[1999]\n",
    "I1=I1s[1999]\n",
    "D11=D11s[1999]\n",
    "\n",
    "S2=Ss[999]\n",
    "I12=I1s[999]\n",
    "D112=D11s[999]"
   ]
  },
  {
   "cell_type": "code",
   "execution_count": 70,
   "metadata": {},
   "outputs": [
    {
     "name": "stdout",
     "output_type": "stream",
     "text": [
      "S = 0.13733345876162112 I1 = 0.02400035875795429 D11 = 0.16617440566796163\n"
     ]
    }
   ],
   "source": [
    "print(\"S =\",S, \"I1 =\",I1, \"D11 =\", D11)"
   ]
  },
  {
   "cell_type": "code",
   "execution_count": 71,
   "metadata": {},
   "outputs": [
    {
     "name": "stdout",
     "output_type": "stream",
     "text": [
      "S2 = 0.13712136108712425 I12 = 0.02395995430965676 D112 = 0.166282968615231\n"
     ]
    }
   ],
   "source": [
    "print(\"S2 =\",S2, \"I12 =\",I12, \"D112 =\", D112)"
   ]
  },
  {
   "cell_type": "code",
   "execution_count": 72,
   "metadata": {},
   "outputs": [
    {
     "data": {
      "image/png": "[encoded data removed]",
      "text/plain": [
       "<Figure size 432x288 with 1 Axes>"
      ]
     },
     "metadata": {
      "needs_background": "light"
     },
     "output_type": "display_data"
    }
   ],
   "source": [
    "# Time Course\n",
    "plt.plot(ts2,Ss)\n",
    "plt.plot(ts2,I1s)\n",
    "plt.plot(ts2,D11s)\n",
    "plt.xlabel('Time', fontsize=14)\n",
    "plt.ylabel('Numbers', fontsize=14)\n",
    "plt.xlim((0,200))\n",
    "plt.ylim((0))\n",
    "plt.legend(['S', r'$I_1$', r'$D_{11}$'], loc='upper right')\n",
    "plt.show()"
   ]
  },
  {
   "cell_type": "markdown",
   "metadata": {},
   "source": [
    "# $\\mu=0.004$"
   ]
  },
  {
   "cell_type": "code",
   "execution_count": 73,
   "metadata": {},
   "outputs": [],
   "source": [
    "mu = 0.004"
   ]
  },
  {
   "cell_type": "code",
   "execution_count": 74,
   "metadata": {},
   "outputs": [],
   "source": [
    "x0 = [0.8,0.5,0.05]\n",
    "xs = odeint(resident,x0,ts2)\n",
    "Ss = xs[:,0]\n",
    "I1s = xs[:,1]\n",
    "D11s = xs[:,2]\n",
    "\n",
    "S=Ss[1999]\n",
    "I1=I1s[1999]\n",
    "D11=D11s[1999]\n",
    "\n",
    "S2=Ss[999]\n",
    "I12=I1s[999]\n",
    "D112=D11s[999]"
   ]
  },
  {
   "cell_type": "code",
   "execution_count": 75,
   "metadata": {},
   "outputs": [
    {
     "name": "stdout",
     "output_type": "stream",
     "text": [
      "S = 0.13866680180004073 I1 = 0.02415110821605336 D11 = 0.1628232674906632\n"
     ]
    }
   ],
   "source": [
    "print(\"S =\",S, \"I1 =\",I1, \"D11 =\", D11)"
   ]
  },
  {
   "cell_type": "code",
   "execution_count": 76,
   "metadata": {},
   "outputs": [
    {
     "name": "stdout",
     "output_type": "stream",
     "text": [
      "S2 = 0.1384436446681473 I12 = 0.024108559837084775 D112 = 0.16293051877269257\n"
     ]
    }
   ],
   "source": [
    "print(\"S2 =\",S2, \"I12 =\",I12, \"D112 =\", D112)"
   ]
  },
  {
   "cell_type": "code",
   "execution_count": 77,
   "metadata": {},
   "outputs": [
    {
     "data": {
      "image/png": "[encoded data removed]",
      "text/plain": [
       "<Figure size 432x288 with 1 Axes>"
      ]
     },
     "metadata": {
      "needs_background": "light"
     },
     "output_type": "display_data"
    }
   ],
   "source": [
    "# Time Course\n",
    "plt.plot(ts2,Ss)\n",
    "plt.plot(ts2,I1s)\n",
    "plt.plot(ts2,D11s)\n",
    "plt.xlabel('Time', fontsize=14)\n",
    "plt.ylabel('Numbers', fontsize=14)\n",
    "plt.xlim((0,200))\n",
    "plt.ylim((0))\n",
    "plt.legend(['S', r'$I_1$', r'$D_{11}$'], loc='upper right')\n",
    "plt.show()"
   ]
  },
  {
   "cell_type": "markdown",
   "metadata": {},
   "source": [
    "# $\\mu=0.005$"
   ]
  },
  {
   "cell_type": "code",
   "execution_count": 78,
   "metadata": {},
   "outputs": [],
   "source": [
    "mu = 0.005"
   ]
  },
  {
   "cell_type": "code",
   "execution_count": 79,
   "metadata": {},
   "outputs": [],
   "source": [
    "x0 = [0.8,0.5,0.05]\n",
    "xs = odeint(resident,x0,ts2)\n",
    "Ss = xs[:,0]\n",
    "I1s = xs[:,1]\n",
    "D11s = xs[:,2]\n",
    "\n",
    "S=Ss[1999]\n",
    "I1=I1s[1999]\n",
    "D11=D11s[1999]\n",
    "\n",
    "S2=Ss[999]\n",
    "I12=I1s[999]\n",
    "D112=D11s[999]"
   ]
  },
  {
   "cell_type": "code",
   "execution_count": 80,
   "metadata": {},
   "outputs": [
    {
     "name": "stdout",
     "output_type": "stream",
     "text": [
      "S = 0.14000015161516616 I1 = 0.02429859254157716 D11 = 0.1595109466578204\n"
     ]
    }
   ],
   "source": [
    "print(\"S =\",S, \"I1 =\",I1, \"D11 =\", D11)"
   ]
  },
  {
   "cell_type": "code",
   "execution_count": 81,
   "metadata": {},
   "outputs": [
    {
     "name": "stdout",
     "output_type": "stream",
     "text": [
      "S2 = 0.13976531832015485 I12 = 0.02425380741782686 D112 = 0.15961726765013487\n"
     ]
    }
   ],
   "source": [
    "print(\"S2 =\",S2, \"I12 =\",I12, \"D112 =\", D112)"
   ]
  },
  {
   "cell_type": "code",
   "execution_count": 82,
   "metadata": {},
   "outputs": [
    {
     "data": {
      "image/png": "[encoded data removed]",
      "text/plain": [
       "<Figure size 432x288 with 1 Axes>"
      ]
     },
     "metadata": {
      "needs_background": "light"
     },
     "output_type": "display_data"
    }
   ],
   "source": [
    "# Time Course\n",
    "plt.plot(ts2,Ss)\n",
    "plt.plot(ts2,I1s)\n",
    "plt.plot(ts2,D11s)\n",
    "plt.xlabel('Time', fontsize=14)\n",
    "plt.ylabel('Numbers', fontsize=14)\n",
    "plt.xlim((0,200))\n",
    "plt.ylim((0))\n",
    "plt.legend(['S', r'$I_1$', r'$D_{11}$'], loc='upper right')\n",
    "plt.show()"
   ]
  },
  {
   "cell_type": "markdown",
   "metadata": {},
   "source": [
    "# $\\mu=0.006$"
   ]
  },
  {
   "cell_type": "code",
   "execution_count": 83,
   "metadata": {},
   "outputs": [],
   "source": [
    "mu = 0.006"
   ]
  },
  {
   "cell_type": "code",
   "execution_count": 84,
   "metadata": {},
   "outputs": [],
   "source": [
    "x0 = [0.8,0.5,0.05]\n",
    "xs = odeint(resident,x0,ts2)\n",
    "Ss = xs[:,0]\n",
    "I1s = xs[:,1]\n",
    "D11s = xs[:,2]\n",
    "\n",
    "S=Ss[1999]\n",
    "I1=I1s[1999]\n",
    "D11=D11s[1999]\n",
    "\n",
    "S2=Ss[999]\n",
    "I12=I1s[999]\n",
    "D112=D11s[999]"
   ]
  },
  {
   "cell_type": "code",
   "execution_count": 85,
   "metadata": {},
   "outputs": [
    {
     "name": "stdout",
     "output_type": "stream",
     "text": [
      "S = 0.1413335134697266 I1 = 0.024442728523668886 D11 = 0.1562365427179847\n"
     ]
    }
   ],
   "source": [
    "print(\"S =\",S, \"I1 =\",I1, \"D11 =\", D11)"
   ]
  },
  {
   "cell_type": "code",
   "execution_count": 86,
   "metadata": {},
   "outputs": [
    {
     "name": "stdout",
     "output_type": "stream",
     "text": [
      "S2 = 0.14108632283161351 I12 = 0.024395598107793744 D112 = 0.15634236881555122\n"
     ]
    }
   ],
   "source": [
    "print(\"S2 =\",S2, \"I12 =\",I12, \"D112 =\", D112)"
   ]
  },
  {
   "cell_type": "code",
   "execution_count": 87,
   "metadata": {},
   "outputs": [
    {
     "data": {
      "image/png": "[encoded data removed]",
      "text/plain": [
       "<Figure size 432x288 with 1 Axes>"
      ]
     },
     "metadata": {
      "needs_background": "light"
     },
     "output_type": "display_data"
    }
   ],
   "source": [
    "# Time Course\n",
    "plt.plot(ts2,Ss)\n",
    "plt.plot(ts2,I1s)\n",
    "plt.plot(ts2,D11s)\n",
    "plt.xlabel('Time', fontsize=14)\n",
    "plt.ylabel('Numbers', fontsize=14)\n",
    "plt.xlim((0,200))\n",
    "plt.ylim((0))\n",
    "plt.legend(['S', r'$I_1$', r'$D_{11}$'], loc='upper right')\n",
    "plt.show()"
   ]
  },
  {
   "cell_type": "code",
   "execution_count": null,
   "metadata": {},
   "outputs": [],
   "source": []
  }
 ],
 "metadata": {
  "kernelspec": {
   "display_name": "Python 3",
   "language": "python",
   "name": "python3"
  },
  "language_info": {
   "codemirror_mode": {
    "name": "ipython",
    "version": 3
   },
   "file_extension": ".py",
   "mimetype": "text/x-python",
   "name": "python",
   "nbconvert_exporter": "python",
   "pygments_lexer": "ipython3",
   "version": "3.8.3"
  }
 },
 "nbformat": 4,
 "nbformat_minor": 4
}
