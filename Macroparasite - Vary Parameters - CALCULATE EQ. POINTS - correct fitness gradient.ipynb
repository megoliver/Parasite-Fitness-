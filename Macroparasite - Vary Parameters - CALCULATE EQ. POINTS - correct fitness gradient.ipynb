{
 "cells": [
  {
   "cell_type": "code",
   "execution_count": 18,
   "metadata": {},
   "outputs": [],
   "source": [
    "import numpy as np\n",
    "import matplotlib.pyplot as plt\n",
    "from scipy.integrate import odeint\n",
    "%matplotlib inline\n",
    "import matplotlib.patches as mpatches"
   ]
  },
  {
   "cell_type": "code",
   "execution_count": 4,
   "metadata": {},
   "outputs": [],
   "source": [
    "def resident(x, t):\n",
    "    lamda = (beta1*(x[1]+2*x[2]))\n",
    "    sdot = rho - mu*x[0] - sigmaS*lamda*x[0]\n",
    "    i1dot = sigmaS*lamda*x[0] - (mu+alpha1+(sigmaI*lamda))*x[1]\n",
    "    d11dot = sigmaI*lamda*x[1] - (mu+alpha11)*x[2]\n",
    "    return sdot,i1dot,d11dot"
   ]
  },
  {
   "cell_type": "code",
   "execution_count": 5,
   "metadata": {},
   "outputs": [],
   "source": [
    "mu = 0.02\n",
    "rho = 0.02\n",
    "sigmaS = 1\n",
    "sigmaI = 5\n",
    "\n",
    "beta1=0.75\n",
    "alpha1 = 0.1 - 0.157**2/0.2*(1 - np.exp(0.2*(beta1 - 0.75)/0.157))\n",
    "alpha11 = 0.1 - 0.157**2/0.2*(1 - np.exp(0.2*((2*beta1) - 0.75)/0.157))"
   ]
  },
  {
   "cell_type": "code",
   "execution_count": 6,
   "metadata": {},
   "outputs": [],
   "source": [
    "tmax2 = 2000\n",
    "ts2 = np.linspace(0,200,tmax2)"
   ]
  },
  {
   "cell_type": "code",
   "execution_count": 7,
   "metadata": {},
   "outputs": [],
   "source": [
    "x0 = [0.8,0.5,0.05]\n",
    "xs = odeint(resident,x0,ts2)\n",
    "Ss = xs[:,0]\n",
    "I1s = xs[:,1]\n",
    "D11s = xs[:,2]\n",
    "\n",
    "S=Ss[1999]\n",
    "I1=I1s[1999]\n",
    "D11=D11s[1999]"
   ]
  },
  {
   "cell_type": "code",
   "execution_count": 8,
   "metadata": {},
   "outputs": [],
   "source": [
    "def fitnessgrad():\n",
    "    lambda1=(betam*(I1+(2*D11)))\n",
    "    alpham = 0.1 - 0.157**2/0.2*(1 - np.exp(0.2*(betam - 0.75)/0.157))\n",
    "    alphamd = 0.157*np.exp(0.2*(betam - 0.75)/0.157)\n",
    "    alpha1m = 0.1 - 0.157**2/0.2*(1 - np.exp(0.4*(betam - 0.75)/0.157))\n",
    "    alpha1md = 0.314*np.exp(0.4*(betam - 0.75)/0.157)\n",
    "    dr = sigmaS*S*(((2*sigmaI*lambda1)/(mu+alpham+(sigmaI*lambda1)))*(((mu+alpha1m-(betam*alpha1md))/((mu+alpha1m)**2))-(((betam*alphamd)/(mu+alpha1m))/(mu+alpham+(sigmaI*lambda1))))) + sigmaS*S*((mu+alpham+(sigmaI*lambda1)-(betam*alphamd))/((mu+alpham+(sigmaI*lambda1))**2)) + 2*sigmaI*I1*((mu+alpha1m-(betam*alpha1md))/((mu+alpha1m)**2))\n",
    "    return dr"
   ]
  },
  {
   "cell_type": "markdown",
   "metadata": {},
   "source": [
    "# $\\mu$"
   ]
  },
  {
   "cell_type": "code",
   "execution_count": 47,
   "metadata": {},
   "outputs": [],
   "source": [
    "muvals = np.around(np.arange(start=0, stop=0.051, step=0.001),decimals=3)\n",
    "betamvals = np.around(np.arange(start=0, stop=1.0001, step=0.0001),decimals=4)\n",
    "singstratmu=[]"
   ]
  },
  {
   "cell_type": "code",
   "execution_count": 48,
   "metadata": {},
   "outputs": [
    {
     "name": "stdout",
     "output_type": "stream",
     "text": [
      "mu = 0.0 beta = -5e-05\n",
      "mu = 0.001 beta = -5e-05\n",
      "mu = 0.002 beta = -5e-05\n",
      "mu = 0.003 beta = -5e-05\n",
      "mu = 0.004 beta = -5e-05\n",
      "mu = 0.005 beta = -5e-05\n",
      "mu = 0.006 beta = 0.11245\n",
      "mu = 0.007 beta = 0.15425\n",
      "mu = 0.008 beta = 0.18465\n",
      "mu = 0.009 beta = 0.20915\n",
      "mu = 0.01 beta = 0.22995000000000002\n",
      "mu = 0.011 beta = 0.24825\n",
      "mu = 0.012 beta = 0.26465\n",
      "mu = 0.013 beta = 0.27945000000000003\n",
      "mu = 0.014 beta = 0.29315\n",
      "mu = 0.015 beta = 0.30575\n",
      "mu = 0.016 beta = 0.31755\n",
      "mu = 0.017 beta = 0.32865\n",
      "mu = 0.018 beta = 0.33915\n",
      "mu = 0.019 beta = 0.34905\n",
      "mu = 0.02 beta = 0.35845\n",
      "mu = 0.021 beta = 0.36745\n",
      "mu = 0.022 beta = 0.37605\n",
      "mu = 0.023 beta = 0.38435\n",
      "mu = 0.024 beta = 0.39225\n",
      "mu = 0.025 beta = 0.39995\n",
      "mu = 0.026 beta = 0.40735\n",
      "mu = 0.027 beta = 0.41445\n",
      "mu = 0.028 beta = 0.42145\n",
      "mu = 0.029 beta = 0.42815000000000003\n",
      "mu = 0.03 beta = 0.43465\n",
      "mu = 0.031 beta = 0.44105\n",
      "mu = 0.032 beta = 0.44715\n",
      "mu = 0.033 beta = 0.45325\n",
      "mu = 0.034 beta = 0.45915\n",
      "mu = 0.035 beta = 0.46485\n",
      "mu = 0.036 beta = 0.47045\n",
      "mu = 0.037 beta = 0.47605000000000003\n",
      "mu = 0.038 beta = 0.48145\n",
      "mu = 0.039 beta = 0.48675\n",
      "mu = 0.04 beta = 0.49195\n",
      "mu = 0.041 beta = 0.49705\n",
      "mu = 0.042 beta = 0.50215\n",
      "mu = 0.043 beta = 0.50715\n",
      "mu = 0.044 beta = 0.51205\n",
      "mu = 0.045 beta = 0.51695\n",
      "mu = 0.046 beta = 0.52175\n",
      "mu = 0.047 beta = 0.52645\n",
      "mu = 0.048 beta = 0.53125\n",
      "mu = 0.049 beta = 0.53585\n",
      "mu = 0.05 beta = 0.54055\n"
     ]
    }
   ],
   "source": [
    "for i in muvals:\n",
    "    mu = i \n",
    "    for j in betamvals:\n",
    "        betam = j \n",
    "                \n",
    "        x0 = [0.8,0.5,0.05]\n",
    "        xs = odeint(resident,x0,ts2)\n",
    "        Ss = xs[:,0]\n",
    "        I1s = xs[:,1]\n",
    "        D11s = xs[:,2]\n",
    "\n",
    "        S=Ss[1999]\n",
    "        I1=I1s[1999]\n",
    "        D11=D11s[1999]\n",
    "        \n",
    "        dr = fitnessgrad()\n",
    "        if dr < 0:\n",
    "            sings = (j + (j-0.0001))/2\n",
    "            print(\"mu =\",mu,\"beta =\",sings)\n",
    "            singstratmu.append(sings)\n",
    "            break"
   ]
  },
  {
   "cell_type": "code",
   "execution_count": 49,
   "metadata": {},
   "outputs": [
    {
     "data": {
      "text/plain": [
       "(0.0, 0.8)"
      ]
     },
     "execution_count": 49,
     "metadata": {},
     "output_type": "execute_result"
    },
    {
     "data": {
      "image/png": "[encoded data removed]",
      "text/plain": [
       "<Figure size 432x288 with 1 Axes>"
      ]
     },
     "metadata": {
      "needs_background": "light"
     },
     "output_type": "display_data"
    }
   ],
   "source": [
    "positions = (0.01, 0.02, 0.03, 0.04, 0.05)\n",
    "plt.xticks(positions)\n",
    "plt.plot(muvals,singstratmu)\n",
    "plt.xlabel(r'Host Mortality Rate, $\\mu$',fontsize=18)\n",
    "plt.ylabel(r'Singular Strategy, $\\beta_1$',fontsize=18)\n",
    "plt.xlim(0.006,0.05) # in  maple first value of mu used is 0.005. limiting x-axis to this range\n",
    "plt.ylim(0,0.8) "
   ]
  },
  {
   "cell_type": "markdown",
   "metadata": {},
   "source": [
    "# $\\rho$"
   ]
  },
  {
   "cell_type": "code",
   "execution_count": 10,
   "metadata": {},
   "outputs": [],
   "source": [
    "mu=0.02\n",
    "rhovals = np.around(np.arange(start=0.00000000000000000000000000000000000000000000000001, stop=0.051, step=0.001),decimals=3)\n",
    "betamvals = np.around(np.arange(start=0, stop=1.001, step=0.001),decimals=3)\n",
    "singstratrho=[]"
   ]
  },
  {
   "cell_type": "code",
   "execution_count": 11,
   "metadata": {},
   "outputs": [
    {
     "name": "stdout",
     "output_type": "stream",
     "text": [
      "rho = 0.0 beta = 0.7645\n",
      "rho = 0.001 beta = 0.7645\n",
      "rho = 0.002 beta = 0.7645\n",
      "rho = 0.003 beta = 0.7635000000000001\n",
      "rho = 0.004 beta = 0.6154999999999999\n",
      "rho = 0.005 beta = 0.3855\n",
      "rho = 0.006 beta = 0.3835\n",
      "rho = 0.007 beta = 0.3685\n",
      "rho = 0.008 beta = 0.3645\n",
      "rho = 0.009 beta = 0.3625\n",
      "rho = 0.01 beta = 0.3605\n",
      "rho = 0.011 beta = 0.3595\n",
      "rho = 0.012 beta = 0.3595\n",
      "rho = 0.013 beta = 0.3585\n",
      "rho = 0.014 beta = 0.3585\n",
      "rho = 0.015 beta = 0.3585\n",
      "rho = 0.016 beta = 0.3585\n",
      "rho = 0.017 beta = 0.3585\n",
      "rho = 0.018 beta = 0.3585\n",
      "rho = 0.019 beta = 0.3585\n",
      "rho = 0.02 beta = 0.3585\n",
      "rho = 0.021 beta = 0.3585\n",
      "rho = 0.022 beta = 0.3585\n",
      "rho = 0.023 beta = 0.3585\n",
      "rho = 0.024 beta = 0.3585\n",
      "rho = 0.025 beta = 0.3595\n",
      "rho = 0.026 beta = 0.3595\n",
      "rho = 0.027 beta = 0.3595\n",
      "rho = 0.028 beta = 0.3595\n",
      "rho = 0.029 beta = 0.3595\n",
      "rho = 0.03 beta = 0.3595\n",
      "rho = 0.031 beta = 0.3595\n",
      "rho = 0.032 beta = 0.3595\n",
      "rho = 0.033 beta = 0.3595\n",
      "rho = 0.034 beta = 0.3595\n",
      "rho = 0.035 beta = 0.3605\n",
      "rho = 0.036 beta = 0.3605\n",
      "rho = 0.037 beta = 0.3605\n",
      "rho = 0.038 beta = 0.3605\n",
      "rho = 0.039 beta = 0.3605\n",
      "rho = 0.04 beta = 0.3605\n",
      "rho = 0.041 beta = 0.3605\n",
      "rho = 0.042 beta = 0.3605\n",
      "rho = 0.043 beta = 0.3605\n",
      "rho = 0.044 beta = 0.3605\n",
      "rho = 0.045 beta = 0.3605\n",
      "rho = 0.046 beta = 0.3605\n",
      "rho = 0.047 beta = 0.3605\n",
      "rho = 0.048 beta = 0.3615\n",
      "rho = 0.049 beta = 0.3615\n",
      "rho = 0.05 beta = 0.3615\n"
     ]
    }
   ],
   "source": [
    "for i in rhovals:\n",
    "    rho = i\n",
    "    for j in betamvals:\n",
    "        betam = j \n",
    "                \n",
    "        x0 = [0.8,0.5,0.05]\n",
    "        xs = odeint(resident,x0,ts2)\n",
    "        Ss = xs[:,0]\n",
    "        I1s = xs[:,1]\n",
    "        D11s = xs[:,2]\n",
    "\n",
    "        S=Ss[1999]\n",
    "        I1=I1s[1999]\n",
    "        D11=D11s[1999]\n",
    "    \n",
    "        dr = fitnessgrad()\n",
    "        if dr < 0:\n",
    "            sings = (j + (j-0.001))/2\n",
    "            print(\"rho =\",rho,\"beta =\",sings)\n",
    "            singstratrho.append(sings)\n",
    "            break"
   ]
  },
  {
   "cell_type": "code",
   "execution_count": 12,
   "metadata": {},
   "outputs": [
    {
     "data": {
      "text/plain": [
       "(0.0, 0.8)"
      ]
     },
     "execution_count": 12,
     "metadata": {},
     "output_type": "execute_result"
    },
    {
     "data": {
      "image/png": "[encoded data removed]",
      "text/plain": [
       "<Figure size 432x288 with 1 Axes>"
      ]
     },
     "metadata": {
      "needs_background": "light"
     },
     "output_type": "display_data"
    }
   ],
   "source": [
    "positions = (0.01,0.02,0.03,0.04,0.05)\n",
    "plt.xticks(positions)\n",
    "plt.plot(rhovals,singstratrho)\n",
    "plt.xlabel(r'Host Birth Rate, $\\rho$',fontsize=18)\n",
    "plt.ylabel(r'Singular Strategy, $\\beta_1$',fontsize=18)\n",
    "plt.xlim(0.006,0.05)\n",
    "plt.ylim(0,0.8) "
   ]
  },
  {
   "cell_type": "code",
   "execution_count": 39,
   "metadata": {},
   "outputs": [],
   "source": [
    "# specify the location of (left,bottom),width,height\n",
    "rect=mpatches.Rectangle((0.033,0.32),0.003,0.08, \n",
    "                        fill = False,\n",
    "                        color = \"red\",\n",
    "                        linewidth = 2)"
   ]
  },
  {
   "cell_type": "code",
   "execution_count": 40,
   "metadata": {},
   "outputs": [
    {
     "data": {
      "text/plain": [
       "<matplotlib.patches.Rectangle at 0x1349f9e96a0>"
      ]
     },
     "execution_count": 40,
     "metadata": {},
     "output_type": "execute_result"
    },
    {
     "data": {
      "image/png": "[encoded data removed]",
      "text/plain": [
       "<Figure size 432x288 with 1 Axes>"
      ]
     },
     "metadata": {
      "needs_background": "light"
     },
     "output_type": "display_data"
    }
   ],
   "source": [
    "positions = (0.01,0.02,0.03,0.04,0.05)\n",
    "plt.xticks(positions)\n",
    "plt.plot(rhovals,singstratrho)\n",
    "plt.xlabel(r'Host Birth Rate, $\\rho$',fontsize=18)\n",
    "plt.ylabel(r'Singular Strategy, $\\beta_1$',fontsize=18)\n",
    "plt.xlim(0.006,0.05)\n",
    "plt.ylim(0,0.8) \n",
    "plt.gca().add_patch(rect)"
   ]
  },
  {
   "cell_type": "code",
   "execution_count": 41,
   "metadata": {},
   "outputs": [
    {
     "data": {
      "text/plain": [
       "(0.3575, 0.3625)"
      ]
     },
     "execution_count": 41,
     "metadata": {},
     "output_type": "execute_result"
    },
    {
     "data": {
      "image/png": "[encoded data removed]",
      "text/plain": [
       "<Figure size 432x288 with 1 Axes>"
      ]
     },
     "metadata": {
      "needs_background": "light"
     },
     "output_type": "display_data"
    }
   ],
   "source": [
    "#positions = (0.01,0.02,0.03,0.04,0.05)\n",
    "#plt.xticks(positions)\n",
    "plt.plot(rhovals,singstratrho)\n",
    "plt.xlabel(r'Host Birth Rate, $\\rho$',fontsize=18)\n",
    "plt.ylabel(r'Singular Strategy, $\\beta_1$',fontsize=18)\n",
    "plt.xlim(0.033,0.036)\n",
    "plt.ylim(0.3575,0.3625) "
   ]
  },
  {
   "cell_type": "markdown",
   "metadata": {},
   "source": [
    "# $\\sigma_S$"
   ]
  },
  {
   "cell_type": "code",
   "execution_count": 53,
   "metadata": {},
   "outputs": [],
   "source": [
    "rho=0.02\n",
    "sigmaSvals = np.around(np.arange(start=0, stop=10.1, step=0.1),decimals=1)\n",
    "betamvals = np.around(np.arange(start=0, stop=1.001, step=0.001),decimals=3)\n",
    "singstratss=[]"
   ]
  },
  {
   "cell_type": "code",
   "execution_count": 54,
   "metadata": {},
   "outputs": [
    {
     "name": "stdout",
     "output_type": "stream",
     "text": [
      "sigmaS = 0.0 beta = 0.3645\n",
      "sigmaS = 0.1 beta = 0.7645\n",
      "sigmaS = 0.2 beta = 0.3885\n",
      "sigmaS = 0.3 beta = 0.3595\n",
      "sigmaS = 0.4 beta = 0.3585\n",
      "sigmaS = 0.5 beta = 0.3585\n",
      "sigmaS = 0.6 beta = 0.3585\n",
      "sigmaS = 0.7 beta = 0.3585\n",
      "sigmaS = 0.8 beta = 0.3585\n",
      "sigmaS = 0.9 beta = 0.3585\n",
      "sigmaS = 1.0 beta = 0.3585\n",
      "sigmaS = 1.1 beta = 0.3585\n",
      "sigmaS = 1.2 beta = 0.3585\n",
      "sigmaS = 1.3 beta = 0.3585\n",
      "sigmaS = 1.4 beta = 0.3585\n",
      "sigmaS = 1.5 beta = 0.3585\n",
      "sigmaS = 1.6 beta = 0.3585\n",
      "sigmaS = 1.7 beta = 0.3585\n",
      "sigmaS = 1.8 beta = 0.3585\n",
      "sigmaS = 1.9 beta = 0.3585\n",
      "sigmaS = 2.0 beta = 0.3585\n",
      "sigmaS = 2.1 beta = 0.3585\n",
      "sigmaS = 2.2 beta = 0.3585\n",
      "sigmaS = 2.3 beta = 0.3585\n",
      "sigmaS = 2.4 beta = 0.3585\n",
      "sigmaS = 2.5 beta = 0.3585\n",
      "sigmaS = 2.6 beta = 0.3585\n",
      "sigmaS = 2.7 beta = 0.3585\n",
      "sigmaS = 2.8 beta = 0.3585\n",
      "sigmaS = 2.9 beta = 0.3585\n",
      "sigmaS = 3.0 beta = 0.3585\n",
      "sigmaS = 3.1 beta = 0.3585\n",
      "sigmaS = 3.2 beta = 0.3585\n",
      "sigmaS = 3.3 beta = 0.3585\n",
      "sigmaS = 3.4 beta = 0.3585\n",
      "sigmaS = 3.5 beta = 0.3585\n",
      "sigmaS = 3.6 beta = 0.3585\n",
      "sigmaS = 3.7 beta = 0.3585\n",
      "sigmaS = 3.8 beta = 0.3585\n",
      "sigmaS = 3.9 beta = 0.3585\n",
      "sigmaS = 4.0 beta = 0.3585\n",
      "sigmaS = 4.1 beta = 0.3585\n",
      "sigmaS = 4.2 beta = 0.3585\n",
      "sigmaS = 4.3 beta = 0.3585\n",
      "sigmaS = 4.4 beta = 0.3585\n",
      "sigmaS = 4.5 beta = 0.3585\n",
      "sigmaS = 4.6 beta = 0.3585\n",
      "sigmaS = 4.7 beta = 0.3585\n",
      "sigmaS = 4.8 beta = 0.3585\n",
      "sigmaS = 4.9 beta = 0.3585\n",
      "sigmaS = 5.0 beta = 0.3585\n",
      "sigmaS = 5.1 beta = 0.3585\n",
      "sigmaS = 5.2 beta = 0.3585\n",
      "sigmaS = 5.3 beta = 0.3585\n",
      "sigmaS = 5.4 beta = 0.3585\n",
      "sigmaS = 5.5 beta = 0.3585\n",
      "sigmaS = 5.6 beta = 0.3585\n",
      "sigmaS = 5.7 beta = 0.3585\n",
      "sigmaS = 5.8 beta = 0.3585\n",
      "sigmaS = 5.9 beta = 0.3585\n",
      "sigmaS = 6.0 beta = 0.3585\n",
      "sigmaS = 6.1 beta = 0.3585\n",
      "sigmaS = 6.2 beta = 0.3585\n",
      "sigmaS = 6.3 beta = 0.3585\n",
      "sigmaS = 6.4 beta = 0.3585\n",
      "sigmaS = 6.5 beta = 0.3585\n",
      "sigmaS = 6.6 beta = 0.3585\n",
      "sigmaS = 6.7 beta = 0.3585\n",
      "sigmaS = 6.8 beta = 0.3585\n",
      "sigmaS = 6.9 beta = 0.3585\n",
      "sigmaS = 7.0 beta = 0.3585\n",
      "sigmaS = 7.1 beta = 0.3585\n",
      "sigmaS = 7.2 beta = 0.3585\n",
      "sigmaS = 7.3 beta = 0.3585\n",
      "sigmaS = 7.4 beta = 0.3585\n",
      "sigmaS = 7.5 beta = 0.3585\n",
      "sigmaS = 7.6 beta = 0.3585\n",
      "sigmaS = 7.7 beta = 0.3585\n",
      "sigmaS = 7.8 beta = 0.3585\n",
      "sigmaS = 7.9 beta = 0.3585\n",
      "sigmaS = 8.0 beta = 0.3585\n",
      "sigmaS = 8.1 beta = 0.3585\n",
      "sigmaS = 8.2 beta = 0.3585\n",
      "sigmaS = 8.3 beta = 0.3585\n",
      "sigmaS = 8.4 beta = 0.3585\n",
      "sigmaS = 8.5 beta = 0.3585\n",
      "sigmaS = 8.6 beta = 0.3585\n",
      "sigmaS = 8.7 beta = 0.3585\n",
      "sigmaS = 8.8 beta = 0.3585\n",
      "sigmaS = 8.9 beta = 0.3585\n",
      "sigmaS = 9.0 beta = 0.3585\n",
      "sigmaS = 9.1 beta = 0.3585\n",
      "sigmaS = 9.2 beta = 0.3585\n",
      "sigmaS = 9.3 beta = 0.3585\n",
      "sigmaS = 9.4 beta = 0.3585\n",
      "sigmaS = 9.5 beta = 0.3585\n",
      "sigmaS = 9.6 beta = 0.3585\n",
      "sigmaS = 9.7 beta = 0.3585\n",
      "sigmaS = 9.8 beta = 0.3585\n",
      "sigmaS = 9.9 beta = 0.3585\n",
      "sigmaS = 10.0 beta = 0.3585\n"
     ]
    }
   ],
   "source": [
    "for i in sigmaSvals:\n",
    "    sigmaS = i\n",
    "    for j in betamvals:\n",
    "        betam = j \n",
    "                \n",
    "        x0 = [0.8,0.5,0.05]\n",
    "        xs = odeint(resident,x0,ts2)\n",
    "        Ss = xs[:,0]\n",
    "        I1s = xs[:,1]\n",
    "        D11s = xs[:,2]\n",
    "\n",
    "        S=Ss[1999]\n",
    "        I1=I1s[1999]\n",
    "        D11=D11s[1999]\n",
    "        \n",
    "        dr = fitnessgrad()\n",
    "        if dr < 0:\n",
    "            sings = (j + (j-0.001))/2\n",
    "            print(\"sigmaS =\",sigmaS,\"beta =\",sings)\n",
    "            singstratss.append(sings)\n",
    "            break"
   ]
  },
  {
   "cell_type": "code",
   "execution_count": 62,
   "metadata": {},
   "outputs": [
    {
     "data": {
      "text/plain": [
       "(0.0, 0.8)"
      ]
     },
     "execution_count": 62,
     "metadata": {},
     "output_type": "execute_result"
    },
    {
     "data": {
      "image/png": "[encoded data removed]",
      "text/plain": [
       "<Figure size 432x288 with 1 Axes>"
      ]
     },
     "metadata": {
      "needs_background": "light"
     },
     "output_type": "display_data"
    }
   ],
   "source": [
    "positions = (1,2,3,4,5,6,7,8,9,10)\n",
    "plt.xticks(positions)\n",
    "plt.plot(sigmaSvals,singstratss)\n",
    "plt.xlabel(r'Vulnerability of Susceptible Hosts, $\\sigma_S$',fontsize=18)\n",
    "plt.ylabel(r'Singular Strategy, $\\beta_1$',fontsize=18)\n",
    "plt.xlim(0.2,10)\n",
    "plt.ylim(0,0.8)"
   ]
  },
  {
   "cell_type": "markdown",
   "metadata": {},
   "source": [
    "# $\\sigma_I$"
   ]
  },
  {
   "cell_type": "code",
   "execution_count": 56,
   "metadata": {},
   "outputs": [],
   "source": [
    "sigmaS=1\n",
    "sigmaIvals = np.around(np.arange(start=0, stop=10.1, step=0.1),decimals=1)\n",
    "betamvals = np.around(np.arange(start=0, stop=1.001, step=0.001),decimals=3)\n",
    "singstratsi=[]"
   ]
  },
  {
   "cell_type": "code",
   "execution_count": 57,
   "metadata": {},
   "outputs": [
    {
     "name": "stdout",
     "output_type": "stream",
     "text": [
      "sigmaI = 0.0 beta = 0.7645\n",
      "sigmaI = 0.1 beta = 0.5425\n",
      "sigmaI = 0.2 beta = 0.4635\n",
      "sigmaI = 0.3 beta = 0.4275\n",
      "sigmaI = 0.4 beta = 0.4075\n",
      "sigmaI = 0.5 beta = 0.3955\n",
      "sigmaI = 0.6 beta = 0.3875\n",
      "sigmaI = 0.7 beta = 0.3815\n",
      "sigmaI = 0.8 beta = 0.3765\n",
      "sigmaI = 0.9 beta = 0.3735\n",
      "sigmaI = 1.0 beta = 0.3705\n",
      "sigmaI = 1.1 beta = 0.3685\n",
      "sigmaI = 1.2 beta = 0.3665\n",
      "sigmaI = 1.3 beta = 0.3655\n",
      "sigmaI = 1.4 beta = 0.3645\n",
      "sigmaI = 1.5 beta = 0.3635\n",
      "sigmaI = 1.6 beta = 0.3625\n",
      "sigmaI = 1.7 beta = 0.3615\n",
      "sigmaI = 1.8 beta = 0.3615\n",
      "sigmaI = 1.9 beta = 0.3605\n",
      "sigmaI = 2.0 beta = 0.3605\n",
      "sigmaI = 2.1 beta = 0.3605\n",
      "sigmaI = 2.2 beta = 0.3595\n",
      "sigmaI = 2.3 beta = 0.3595\n",
      "sigmaI = 2.4 beta = 0.3595\n",
      "sigmaI = 2.5 beta = 0.3595\n",
      "sigmaI = 2.6 beta = 0.3585\n",
      "sigmaI = 2.7 beta = 0.3585\n",
      "sigmaI = 2.8 beta = 0.3585\n",
      "sigmaI = 2.9 beta = 0.3585\n",
      "sigmaI = 3.0 beta = 0.3585\n",
      "sigmaI = 3.1 beta = 0.3585\n",
      "sigmaI = 3.2 beta = 0.3585\n",
      "sigmaI = 3.3 beta = 0.3585\n",
      "sigmaI = 3.4 beta = 0.3585\n",
      "sigmaI = 3.5 beta = 0.3585\n",
      "sigmaI = 3.6 beta = 0.3585\n",
      "sigmaI = 3.7 beta = 0.3585\n",
      "sigmaI = 3.8 beta = 0.3585\n",
      "sigmaI = 3.9 beta = 0.3585\n",
      "sigmaI = 4.0 beta = 0.3585\n",
      "sigmaI = 4.1 beta = 0.3585\n",
      "sigmaI = 4.2 beta = 0.3585\n",
      "sigmaI = 4.3 beta = 0.3585\n",
      "sigmaI = 4.4 beta = 0.3585\n",
      "sigmaI = 4.5 beta = 0.3585\n",
      "sigmaI = 4.6 beta = 0.3585\n",
      "sigmaI = 4.7 beta = 0.3585\n",
      "sigmaI = 4.8 beta = 0.3585\n",
      "sigmaI = 4.9 beta = 0.3585\n",
      "sigmaI = 5.0 beta = 0.3585\n",
      "sigmaI = 5.1 beta = 0.3585\n",
      "sigmaI = 5.2 beta = 0.3585\n",
      "sigmaI = 5.3 beta = 0.3585\n",
      "sigmaI = 5.4 beta = 0.3585\n",
      "sigmaI = 5.5 beta = 0.3585\n",
      "sigmaI = 5.6 beta = 0.3585\n",
      "sigmaI = 5.7 beta = 0.3585\n",
      "sigmaI = 5.8 beta = 0.3585\n",
      "sigmaI = 5.9 beta = 0.3585\n",
      "sigmaI = 6.0 beta = 0.3585\n",
      "sigmaI = 6.1 beta = 0.3585\n",
      "sigmaI = 6.2 beta = 0.3585\n",
      "sigmaI = 6.3 beta = 0.3585\n",
      "sigmaI = 6.4 beta = 0.3585\n",
      "sigmaI = 6.5 beta = 0.3585\n",
      "sigmaI = 6.6 beta = 0.3595\n",
      "sigmaI = 6.7 beta = 0.3595\n",
      "sigmaI = 6.8 beta = 0.3595\n",
      "sigmaI = 6.9 beta = 0.3595\n",
      "sigmaI = 7.0 beta = 0.3595\n",
      "sigmaI = 7.1 beta = 0.3595\n",
      "sigmaI = 7.2 beta = 0.3595\n",
      "sigmaI = 7.3 beta = 0.3595\n",
      "sigmaI = 7.4 beta = 0.3595\n",
      "sigmaI = 7.5 beta = 0.3595\n",
      "sigmaI = 7.6 beta = 0.3595\n",
      "sigmaI = 7.7 beta = 0.3595\n",
      "sigmaI = 7.8 beta = 0.3595\n",
      "sigmaI = 7.9 beta = 0.3595\n",
      "sigmaI = 8.0 beta = 0.3595\n",
      "sigmaI = 8.1 beta = 0.3595\n",
      "sigmaI = 8.2 beta = 0.3595\n",
      "sigmaI = 8.3 beta = 0.3595\n",
      "sigmaI = 8.4 beta = 0.3595\n",
      "sigmaI = 8.5 beta = 0.3595\n",
      "sigmaI = 8.6 beta = 0.3595\n",
      "sigmaI = 8.7 beta = 0.3595\n",
      "sigmaI = 8.8 beta = 0.3595\n",
      "sigmaI = 8.9 beta = 0.3595\n",
      "sigmaI = 9.0 beta = 0.3595\n",
      "sigmaI = 9.1 beta = 0.3595\n",
      "sigmaI = 9.2 beta = 0.3595\n",
      "sigmaI = 9.3 beta = 0.3595\n",
      "sigmaI = 9.4 beta = 0.3595\n",
      "sigmaI = 9.5 beta = 0.3605\n",
      "sigmaI = 9.6 beta = 0.3605\n",
      "sigmaI = 9.7 beta = 0.3605\n",
      "sigmaI = 9.8 beta = 0.3605\n",
      "sigmaI = 9.9 beta = 0.3605\n",
      "sigmaI = 10.0 beta = 0.3605\n"
     ]
    }
   ],
   "source": [
    "for i in sigmaIvals:\n",
    "    sigmaI = i\n",
    "    for j in betamvals:\n",
    "        betam = j \n",
    "        \n",
    "        x0 = [0.8,0.5,0.05]\n",
    "        xs = odeint(resident,x0,ts2)\n",
    "        Ss = xs[:,0]\n",
    "        I1s = xs[:,1]\n",
    "        D11s = xs[:,2]\n",
    "\n",
    "        S=Ss[1999]\n",
    "        I1=I1s[1999]\n",
    "        D11=D11s[1999]\n",
    "        \n",
    "        dr = fitnessgrad()\n",
    "        if dr < 0:\n",
    "            sings = (j + (j-0.001))/2\n",
    "            print(\"sigmaI =\",sigmaI,\"beta =\",sings)\n",
    "            singstratsi.append(sings)\n",
    "            break"
   ]
  },
  {
   "cell_type": "code",
   "execution_count": 63,
   "metadata": {},
   "outputs": [
    {
     "data": {
      "text/plain": [
       "(0.0, 0.8)"
      ]
     },
     "execution_count": 63,
     "metadata": {},
     "output_type": "execute_result"
    },
    {
     "data": {
      "image/png": "[encoded data removed]",
      "text/plain": [
       "<Figure size 432x288 with 1 Axes>"
      ]
     },
     "metadata": {
      "needs_background": "light"
     },
     "output_type": "display_data"
    }
   ],
   "source": [
    "positions = (1,2,3,4,5,6,7,8,9,10)\n",
    "plt.xticks(positions)\n",
    "plt.plot(sigmaIvals,singstratsi)\n",
    "plt.xlabel(r'Vulnerability of Infected Hosts, $\\sigma_I$',fontsize=18)\n",
    "plt.ylabel(r'Singular Strategy, $\\beta_1$',fontsize=18)\n",
    "plt.xlim(0.1,10)\n",
    "plt.ylim(0,0.8)"
   ]
  },
  {
   "cell_type": "code",
   "execution_count": null,
   "metadata": {},
   "outputs": [],
   "source": []
  }
 ],
 "metadata": {
  "kernelspec": {
   "display_name": "Python 3",
   "language": "python",
   "name": "python3"
  },
  "language_info": {
   "codemirror_mode": {
    "name": "ipython",
    "version": 3
   },
   "file_extension": ".py",
   "mimetype": "text/x-python",
   "name": "python",
   "nbconvert_exporter": "python",
   "pygments_lexer": "ipython3",
   "version": "3.8.3"
  }
 },
 "nbformat": 4,
 "nbformat_minor": 4
}
