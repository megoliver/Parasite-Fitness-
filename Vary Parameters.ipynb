{
 "cells": [
  {
   "cell_type": "code",
   "execution_count": 4,
   "metadata": {},
   "outputs": [],
   "source": [
    "import numpy as np\n",
    "import matplotlib.pyplot as plt\n",
    "from scipy.integrate import odeint\n",
    "%matplotlib inline"
   ]
  },
  {
   "cell_type": "code",
   "execution_count": 5,
   "metadata": {},
   "outputs": [],
   "source": [
    "def resident(x, t):\n",
    "    lambda1 = (beta1*(x[1]+x[2]))\n",
    "    sdot = rho - mu*x[0] - sigmaS*lambda1*x[0]\n",
    "    i1dot = sigmaS*lambda1*x[0] - (mu+alpha1+(sigmaI*lambda1))*x[1]\n",
    "    d11dot = sigmaI*lambda1*x[1] - (mu+alpha1)*x[2]\n",
    "    return sdot,i1dot,d11dot"
   ]
  },
  {
   "cell_type": "code",
   "execution_count": 6,
   "metadata": {},
   "outputs": [],
   "source": [
    "mu = 0.02\n",
    "rho = 0.02\n",
    "sigmaS = 1\n",
    "sigmaI = 5\n",
    "\n",
    "beta1=0.75\n",
    "alpha1 = 0.1 - 0.157**2/0.2*(1 - np.exp(0.2*(beta1 - 0.75)/0.157))"
   ]
  },
  {
   "cell_type": "code",
   "execution_count": 7,
   "metadata": {},
   "outputs": [],
   "source": [
    "tmax2 = 1000\n",
    "ts2 = np.linspace(0,100,tmax2)"
   ]
  },
  {
   "cell_type": "code",
   "execution_count": 8,
   "metadata": {},
   "outputs": [],
   "source": [
    "x0 = [0.8,0.5,0.05]\n",
    "xs = odeint(resident,x0,ts2)\n",
    "Ss = xs[:,0]\n",
    "I1s = xs[:,1]\n",
    "D11s = xs[:,2]\n",
    "\n",
    "S=Ss[999]\n",
    "I1=I1s[999]\n",
    "D11=D11s[999]"
   ]
  },
  {
   "cell_type": "code",
   "execution_count": 9,
   "metadata": {},
   "outputs": [],
   "source": [
    "def fitnessgrad():\n",
    "    lambdam=(betam*(I1+D11))\n",
    "    alpham = 0.1 - 0.157**2/0.2*(1 - np.exp(0.2*(betam - 0.75)/0.157))\n",
    "    alphamd = 0.157*np.exp(0.2*(betam - 0.75)/0.157)\n",
    "    dr = sigmaS*S*(((mu+alpham+(sigmaI*lambdam)-(betam*alphamd))/(mu+alpham+(sigmaI*lambdam))**2)+(((sigmaI*lambdam)/(mu+alpham+(sigmaI*lambdam)))*(((mu+alpham-(betam*alphamd))/(mu+alpham)**2)-(((betam*alphamd)/(mu+alpham))/(mu+alpham+(sigmaI*lambdam)))))) + sigmaI*I1*((mu+alpham-(betam*alphamd))/(mu+alpham)**2)\n",
    "    return dr "
   ]
  },
  {
   "cell_type": "markdown",
   "metadata": {},
   "source": [
    "# $\\mu$"
   ]
  },
  {
   "cell_type": "code",
   "execution_count": 34,
   "metadata": {},
   "outputs": [],
   "source": [
    "muvals = np.around(np.arange(start=0, stop=0.051, step=0.001),decimals=3)\n",
    "betamvals = np.around(np.arange(start=0, stop=1.0001, step=0.0001),decimals=4)\n",
    "singstratmu=[]"
   ]
  },
  {
   "cell_type": "code",
   "execution_count": 35,
   "metadata": {},
   "outputs": [
    {
     "name": "stdout",
     "output_type": "stream",
     "text": [
      "mu= 0.0 beta= 0.60745\n",
      "mu= 0.001 beta= 0.61715\n",
      "mu= 0.002 beta= 0.62665\n",
      "mu= 0.003 beta= 0.63585\n",
      "mu= 0.004 beta= 0.64485\n",
      "mu= 0.005 beta= 0.65365\n",
      "mu= 0.006 beta= 0.66215\n",
      "mu= 0.007 beta= 0.67055\n",
      "mu= 0.008 beta= 0.67865\n",
      "mu= 0.009 beta= 0.68665\n",
      "mu= 0.01 beta= 0.69445\n",
      "mu= 0.011 beta= 0.70205\n",
      "mu= 0.012 beta= 0.70955\n",
      "mu= 0.013 beta= 0.71695\n",
      "mu= 0.014 beta= 0.72415\n",
      "mu= 0.015 beta= 0.73125\n",
      "mu= 0.016 beta= 0.73815\n",
      "mu= 0.017 beta= 0.74495\n",
      "mu= 0.018 beta= 0.75165\n",
      "mu= 0.019 beta= 0.75825\n",
      "mu= 0.02 beta= 0.76475\n",
      "mu= 0.021 beta= 0.77105\n",
      "mu= 0.022 beta= 0.77735\n",
      "mu= 0.023 beta= 0.78355\n",
      "mu= 0.024 beta= 0.78955\n",
      "mu= 0.025 beta= 0.79555\n",
      "mu= 0.026 beta= 0.80145\n",
      "mu= 0.027 beta= 0.80725\n",
      "mu= 0.028 beta= 0.81295\n",
      "mu= 0.029 beta= 0.81855\n",
      "mu= 0.03 beta= 0.82415\n",
      "mu= 0.031 beta= 0.82965\n",
      "mu= 0.032 beta= 0.83505\n",
      "mu= 0.033 beta= 0.84035\n",
      "mu= 0.034 beta= 0.84565\n",
      "mu= 0.035 beta= 0.85085\n",
      "mu= 0.036 beta= 0.85595\n",
      "mu= 0.037 beta= 0.86105\n",
      "mu= 0.038 beta= 0.86605\n",
      "mu= 0.039 beta= 0.87105\n",
      "mu= 0.04 beta= 0.87595\n",
      "mu= 0.041 beta= 0.88075\n",
      "mu= 0.042 beta= 0.8855500000000001\n",
      "mu= 0.043 beta= 0.89025\n",
      "mu= 0.044 beta= 0.89495\n",
      "mu= 0.045 beta= 0.89955\n",
      "mu= 0.046 beta= 0.90415\n",
      "mu= 0.047 beta= 0.90865\n",
      "mu= 0.048 beta= 0.91305\n",
      "mu= 0.049 beta= 0.91755\n",
      "mu= 0.05 beta= 0.9218500000000001\n"
     ]
    }
   ],
   "source": [
    "for i in muvals:\n",
    "    mu = i \n",
    "    for j in betamvals:\n",
    "        betam = j \n",
    "        \n",
    "        x0 = [0.8,0.5,0.05]\n",
    "        xs = odeint(resident,x0,ts2)\n",
    "        Ss = xs[:,0]\n",
    "        I1s = xs[:,1]\n",
    "        D11s = xs[:,2]\n",
    "\n",
    "        S=Ss[999]\n",
    "        I1=I1s[999]\n",
    "        D11=D11s[999]\n",
    "        \n",
    "        dr = fitnessgrad()\n",
    "        if dr < 0:\n",
    "            sings = (j + (j-0.0001))/2\n",
    "            print(\"mu=\",mu,\"beta=\",sings)\n",
    "            singstratmu.append(sings)\n",
    "            break"
   ]
  },
  {
   "cell_type": "code",
   "execution_count": 38,
   "metadata": {},
   "outputs": [
    {
     "data": {
      "text/plain": [
       "(0.6, 1.0)"
      ]
     },
     "execution_count": 38,
     "metadata": {},
     "output_type": "execute_result"
    },
    {
     "data": {
      "image/png": "[encoded data removed]",
      "text/plain": [
       "<Figure size 432x288 with 1 Axes>"
      ]
     },
     "metadata": {
      "needs_background": "light"
     },
     "output_type": "display_data"
    }
   ],
   "source": [
    "plt.plot(muvals,singstratmu)\n",
    "plt.xlabel(r'Host Mortality Rate, $\\mu$',fontsize=18)\n",
    "plt.ylabel(r'Singular Strategy, $\\beta_1$',fontsize=18)\n",
    "plt.xlim(0, 0.05) # in  maple first value of mu used is 0.005. limiting x-axis to this range\n",
    "plt.ylim(0.6,1) "
   ]
  },
  {
   "cell_type": "markdown",
   "metadata": {},
   "source": [
    "# $\\rho$"
   ]
  },
  {
   "cell_type": "code",
   "execution_count": 10,
   "metadata": {},
   "outputs": [],
   "source": [
    "mu=0.02\n",
    "rhovals = np.around(np.arange(start=0, stop=0.051, step=0.001),decimals=3)\n",
    "betamvals = np.around(np.arange(start=0, stop=1.001, step=0.001),decimals=3)\n",
    "singstratrho=[]"
   ]
  },
  {
   "cell_type": "code",
   "execution_count": 11,
   "metadata": {},
   "outputs": [
    {
     "name": "stdout",
     "output_type": "stream",
     "text": [
      "rho= 0.0 beta= 0.7645\n",
      "rho= 0.001 beta= 0.7645\n",
      "rho= 0.002 beta= 0.7645\n",
      "rho= 0.003 beta= 0.7645\n",
      "rho= 0.004 beta= 0.7645\n",
      "rho= 0.005 beta= 0.7645\n",
      "rho= 0.006 beta= 0.7645\n",
      "rho= 0.007 beta= 0.7645\n",
      "rho= 0.008 beta= 0.7645\n",
      "rho= 0.009 beta= 0.7645\n",
      "rho= 0.01 beta= 0.7645\n",
      "rho= 0.011 beta= 0.7645\n",
      "rho= 0.012 beta= 0.7645\n",
      "rho= 0.013 beta= 0.7645\n",
      "rho= 0.014 beta= 0.7645\n",
      "rho= 0.015 beta= 0.7645\n",
      "rho= 0.016 beta= 0.7645\n",
      "rho= 0.017 beta= 0.7645\n",
      "rho= 0.018 beta= 0.7645\n",
      "rho= 0.019 beta= 0.7645\n",
      "rho= 0.02 beta= 0.7645\n",
      "rho= 0.021 beta= 0.7645\n",
      "rho= 0.022 beta= 0.7645\n",
      "rho= 0.023 beta= 0.7645\n",
      "rho= 0.024 beta= 0.7645\n",
      "rho= 0.025 beta= 0.7645\n",
      "rho= 0.026 beta= 0.7645\n",
      "rho= 0.027 beta= 0.7645\n",
      "rho= 0.028 beta= 0.7645\n",
      "rho= 0.029 beta= 0.7645\n",
      "rho= 0.03 beta= 0.7645\n",
      "rho= 0.031 beta= 0.7645\n",
      "rho= 0.032 beta= 0.7645\n",
      "rho= 0.033 beta= 0.7645\n",
      "rho= 0.034 beta= 0.7645\n",
      "rho= 0.035 beta= 0.7645\n",
      "rho= 0.036 beta= 0.7645\n",
      "rho= 0.037 beta= 0.7645\n",
      "rho= 0.038 beta= 0.7645\n",
      "rho= 0.039 beta= 0.7645\n",
      "rho= 0.04 beta= 0.7645\n",
      "rho= 0.041 beta= 0.7645\n",
      "rho= 0.042 beta= 0.7645\n",
      "rho= 0.043 beta= 0.7645\n",
      "rho= 0.044 beta= 0.7645\n",
      "rho= 0.045 beta= 0.7645\n",
      "rho= 0.046 beta= 0.7645\n",
      "rho= 0.047 beta= 0.7645\n",
      "rho= 0.048 beta= 0.7645\n",
      "rho= 0.049 beta= 0.7645\n",
      "rho= 0.05 beta= 0.7645\n"
     ]
    }
   ],
   "source": [
    "for i in rhovals:\n",
    "    rho = i \n",
    "    for j in betamvals:\n",
    "        betam = j \n",
    "             \n",
    "        x0 = [0.8,0.5,0.05]\n",
    "        xs = odeint(resident,x0,ts2)\n",
    "        Ss = xs[:,0]\n",
    "        I1s = xs[:,1]\n",
    "        D11s = xs[:,2]\n",
    "\n",
    "        S=Ss[999]\n",
    "        I1=I1s[999]\n",
    "        D11=D11s[999]\n",
    "        \n",
    "        dr = fitnessgrad()\n",
    "        if dr < 0:\n",
    "            sings = (j + (j-0.001))/2\n",
    "            print(\"rho=\",rho,\"beta=\",sings)\n",
    "            singstratrho.append(sings)\n",
    "            break "
   ]
  },
  {
   "cell_type": "code",
   "execution_count": 12,
   "metadata": {},
   "outputs": [
    {
     "data": {
      "text/plain": [
       "(0.6, 1.0)"
      ]
     },
     "execution_count": 12,
     "metadata": {},
     "output_type": "execute_result"
    },
    {
     "data": {
      "image/png": "[encoded data removed]",
      "text/plain": [
       "<Figure size 432x288 with 1 Axes>"
      ]
     },
     "metadata": {
      "needs_background": "light"
     },
     "output_type": "display_data"
    }
   ],
   "source": [
    "plt.plot(rhovals,singstratrho)\n",
    "plt.xlabel(r'Host Birth Rate, $\\rho$',fontsize=18)\n",
    "plt.ylabel(r'Singular Strategy, $\\beta_1$',fontsize=18)\n",
    "plt.xlim(0.005,0.05) # in  maple first value of rho used is 0.005. limiting x-axis to this range\n",
    "plt.ylim(0.6,1) "
   ]
  },
  {
   "cell_type": "markdown",
   "metadata": {},
   "source": [
    "# $\\sigma_S$"
   ]
  },
  {
   "cell_type": "code",
   "execution_count": 19,
   "metadata": {},
   "outputs": [],
   "source": [
    "rho=0.02\n",
    "sigmaSvals = np.around(np.arange(start=0, stop=10.1, step=0.1),decimals=1)\n",
    "betamvals = np.around(np.arange(start=0, stop=1.001, step=0.001),decimals=3)\n",
    "singstratss=[]"
   ]
  },
  {
   "cell_type": "code",
   "execution_count": 20,
   "metadata": {},
   "outputs": [
    {
     "name": "stdout",
     "output_type": "stream",
     "text": [
      "sigmaS= 0.0 beta= 0.7645\n",
      "sigmaS= 0.1 beta= 0.7645\n",
      "sigmaS= 0.2 beta= 0.7645\n",
      "sigmaS= 0.3 beta= 0.7645\n",
      "sigmaS= 0.4 beta= 0.7645\n",
      "sigmaS= 0.5 beta= 0.7645\n",
      "sigmaS= 0.6 beta= 0.7645\n",
      "sigmaS= 0.7 beta= 0.7645\n",
      "sigmaS= 0.8 beta= 0.7645\n",
      "sigmaS= 0.9 beta= 0.7645\n",
      "sigmaS= 1.0 beta= 0.7645\n",
      "sigmaS= 1.1 beta= 0.7645\n",
      "sigmaS= 1.2 beta= 0.7645\n",
      "sigmaS= 1.3 beta= 0.7645\n",
      "sigmaS= 1.4 beta= 0.7645\n",
      "sigmaS= 1.5 beta= 0.7645\n",
      "sigmaS= 1.6 beta= 0.7645\n",
      "sigmaS= 1.7 beta= 0.7645\n",
      "sigmaS= 1.8 beta= 0.7645\n",
      "sigmaS= 1.9 beta= 0.7645\n",
      "sigmaS= 2.0 beta= 0.7645\n",
      "sigmaS= 2.1 beta= 0.7645\n",
      "sigmaS= 2.2 beta= 0.7645\n",
      "sigmaS= 2.3 beta= 0.7645\n",
      "sigmaS= 2.4 beta= 0.7645\n",
      "sigmaS= 2.5 beta= 0.7645\n",
      "sigmaS= 2.6 beta= 0.7645\n",
      "sigmaS= 2.7 beta= 0.7645\n",
      "sigmaS= 2.8 beta= 0.7645\n",
      "sigmaS= 2.9 beta= 0.7645\n",
      "sigmaS= 3.0 beta= 0.7645\n",
      "sigmaS= 3.1 beta= 0.7645\n",
      "sigmaS= 3.2 beta= 0.7645\n",
      "sigmaS= 3.3 beta= 0.7645\n",
      "sigmaS= 3.4 beta= 0.7645\n",
      "sigmaS= 3.5 beta= 0.7645\n",
      "sigmaS= 3.6 beta= 0.7645\n",
      "sigmaS= 3.7 beta= 0.7645\n",
      "sigmaS= 3.8 beta= 0.7645\n",
      "sigmaS= 3.9 beta= 0.7645\n",
      "sigmaS= 4.0 beta= 0.7645\n",
      "sigmaS= 4.1 beta= 0.7645\n",
      "sigmaS= 4.2 beta= 0.7645\n",
      "sigmaS= 4.3 beta= 0.7645\n",
      "sigmaS= 4.4 beta= 0.7645\n",
      "sigmaS= 4.5 beta= 0.7645\n",
      "sigmaS= 4.6 beta= 0.7645\n",
      "sigmaS= 4.7 beta= 0.7645\n",
      "sigmaS= 4.8 beta= 0.7645\n",
      "sigmaS= 4.9 beta= 0.7645\n",
      "sigmaS= 5.0 beta= 0.7645\n",
      "sigmaS= 5.1 beta= 0.7645\n",
      "sigmaS= 5.2 beta= 0.7645\n",
      "sigmaS= 5.3 beta= 0.7645\n",
      "sigmaS= 5.4 beta= 0.7645\n",
      "sigmaS= 5.5 beta= 0.7645\n",
      "sigmaS= 5.6 beta= 0.7645\n",
      "sigmaS= 5.7 beta= 0.7645\n",
      "sigmaS= 5.8 beta= 0.7645\n",
      "sigmaS= 5.9 beta= 0.7645\n",
      "sigmaS= 6.0 beta= 0.7645\n",
      "sigmaS= 6.1 beta= 0.7645\n",
      "sigmaS= 6.2 beta= 0.7645\n",
      "sigmaS= 6.3 beta= 0.7645\n",
      "sigmaS= 6.4 beta= 0.7645\n",
      "sigmaS= 6.5 beta= 0.7645\n",
      "sigmaS= 6.6 beta= 0.7645\n",
      "sigmaS= 6.7 beta= 0.7645\n",
      "sigmaS= 6.8 beta= 0.7645\n",
      "sigmaS= 6.9 beta= 0.7645\n",
      "sigmaS= 7.0 beta= 0.7645\n",
      "sigmaS= 7.1 beta= 0.7645\n",
      "sigmaS= 7.2 beta= 0.7645\n",
      "sigmaS= 7.3 beta= 0.7645\n",
      "sigmaS= 7.4 beta= 0.7645\n",
      "sigmaS= 7.5 beta= 0.7645\n",
      "sigmaS= 7.6 beta= 0.7645\n",
      "sigmaS= 7.7 beta= 0.7645\n",
      "sigmaS= 7.8 beta= 0.7645\n",
      "sigmaS= 7.9 beta= 0.7645\n",
      "sigmaS= 8.0 beta= 0.7645\n",
      "sigmaS= 8.1 beta= 0.7645\n",
      "sigmaS= 8.2 beta= 0.7645\n",
      "sigmaS= 8.3 beta= 0.7645\n",
      "sigmaS= 8.4 beta= 0.7645\n",
      "sigmaS= 8.5 beta= 0.7645\n",
      "sigmaS= 8.6 beta= 0.7645\n",
      "sigmaS= 8.7 beta= 0.7645\n",
      "sigmaS= 8.8 beta= 0.7645\n",
      "sigmaS= 8.9 beta= 0.7645\n",
      "sigmaS= 9.0 beta= 0.7645\n",
      "sigmaS= 9.1 beta= 0.7645\n",
      "sigmaS= 9.2 beta= 0.7645\n",
      "sigmaS= 9.3 beta= 0.7645\n",
      "sigmaS= 9.4 beta= 0.7645\n",
      "sigmaS= 9.5 beta= 0.7645\n",
      "sigmaS= 9.6 beta= 0.7645\n",
      "sigmaS= 9.7 beta= 0.7645\n",
      "sigmaS= 9.8 beta= 0.7645\n",
      "sigmaS= 9.9 beta= 0.7645\n",
      "sigmaS= 10.0 beta= 0.7645\n"
     ]
    }
   ],
   "source": [
    "for i in sigmaSvals:\n",
    "    sigmaS = i \n",
    "    for j in betamvals:\n",
    "        betam = j \n",
    "             \n",
    "        x0 = [0.8,0.5,0.05]\n",
    "        xs = odeint(resident,x0,ts2)\n",
    "        Ss = xs[:,0]\n",
    "        I1s = xs[:,1]\n",
    "        D11s = xs[:,2]\n",
    "\n",
    "        S=Ss[999]\n",
    "        I1=I1s[999]\n",
    "        D11=D11s[999]\n",
    "        \n",
    "        dr = fitnessgrad()\n",
    "        if dr < 0:\n",
    "            sings = (j + (j-0.001))/2\n",
    "            print(\"sigmaS=\",sigmaS,\"beta=\",sings)\n",
    "            singstratss.append(sings)\n",
    "            break "
   ]
  },
  {
   "cell_type": "code",
   "execution_count": 43,
   "metadata": {},
   "outputs": [
    {
     "data": {
      "text/plain": [
       "(0.6, 1.0)"
      ]
     },
     "execution_count": 43,
     "metadata": {},
     "output_type": "execute_result"
    },
    {
     "data": {
      "image/png": "[encoded data removed]",
      "text/plain": [
       "<Figure size 432x288 with 1 Axes>"
      ]
     },
     "metadata": {
      "needs_background": "light"
     },
     "output_type": "display_data"
    }
   ],
   "source": [
    "positions = (0,1,2,3,4,5,6,7,8,9,10)\n",
    "plt.xticks(positions)\n",
    "plt.plot(sigmaSvals,singstratss)\n",
    "plt.xlabel(r'Vulnerability of Susceptible Hosts, $\\sigma_S$',fontsize=18)\n",
    "plt.ylabel(r'Singular Strategy, $\\beta_1$',fontsize=18)\n",
    "plt.xlim(0,10)\n",
    "plt.ylim(0.6,1)"
   ]
  },
  {
   "cell_type": "markdown",
   "metadata": {},
   "source": [
    "# $\\sigma_I$"
   ]
  },
  {
   "cell_type": "code",
   "execution_count": 22,
   "metadata": {},
   "outputs": [],
   "source": [
    "sigmaS=1\n",
    "sigmaIvals = np.around(np.arange(start=0, stop=10.1, step=0.1),decimals=1)\n",
    "betamvals = np.around(np.arange(start=0, stop=1.001, step=0.001),decimals=3)\n",
    "singstratsi=[]"
   ]
  },
  {
   "cell_type": "code",
   "execution_count": 23,
   "metadata": {},
   "outputs": [
    {
     "name": "stdout",
     "output_type": "stream",
     "text": [
      "sigmaI= 0.0 beta= 0.7645\n",
      "sigmaI= 0.1 beta= 0.7645\n",
      "sigmaI= 0.2 beta= 0.7645\n",
      "sigmaI= 0.3 beta= 0.7645\n",
      "sigmaI= 0.4 beta= 0.7645\n",
      "sigmaI= 0.5 beta= 0.7645\n",
      "sigmaI= 0.6 beta= 0.7645\n",
      "sigmaI= 0.7 beta= 0.7645\n",
      "sigmaI= 0.8 beta= 0.7645\n",
      "sigmaI= 0.9 beta= 0.7645\n",
      "sigmaI= 1.0 beta= 0.7645\n",
      "sigmaI= 1.1 beta= 0.7645\n",
      "sigmaI= 1.2 beta= 0.7645\n",
      "sigmaI= 1.3 beta= 0.7645\n",
      "sigmaI= 1.4 beta= 0.7645\n",
      "sigmaI= 1.5 beta= 0.7645\n",
      "sigmaI= 1.6 beta= 0.7645\n",
      "sigmaI= 1.7 beta= 0.7645\n",
      "sigmaI= 1.8 beta= 0.7645\n",
      "sigmaI= 1.9 beta= 0.7645\n",
      "sigmaI= 2.0 beta= 0.7645\n",
      "sigmaI= 2.1 beta= 0.7645\n",
      "sigmaI= 2.2 beta= 0.7645\n",
      "sigmaI= 2.3 beta= 0.7645\n",
      "sigmaI= 2.4 beta= 0.7645\n",
      "sigmaI= 2.5 beta= 0.7645\n",
      "sigmaI= 2.6 beta= 0.7645\n",
      "sigmaI= 2.7 beta= 0.7645\n",
      "sigmaI= 2.8 beta= 0.7645\n",
      "sigmaI= 2.9 beta= 0.7645\n",
      "sigmaI= 3.0 beta= 0.7645\n",
      "sigmaI= 3.1 beta= 0.7645\n",
      "sigmaI= 3.2 beta= 0.7645\n",
      "sigmaI= 3.3 beta= 0.7645\n",
      "sigmaI= 3.4 beta= 0.7645\n",
      "sigmaI= 3.5 beta= 0.7645\n",
      "sigmaI= 3.6 beta= 0.7645\n",
      "sigmaI= 3.7 beta= 0.7645\n",
      "sigmaI= 3.8 beta= 0.7645\n",
      "sigmaI= 3.9 beta= 0.7645\n",
      "sigmaI= 4.0 beta= 0.7645\n",
      "sigmaI= 4.1 beta= 0.7645\n",
      "sigmaI= 4.2 beta= 0.7645\n",
      "sigmaI= 4.3 beta= 0.7645\n",
      "sigmaI= 4.4 beta= 0.7645\n",
      "sigmaI= 4.5 beta= 0.7645\n",
      "sigmaI= 4.6 beta= 0.7645\n",
      "sigmaI= 4.7 beta= 0.7645\n",
      "sigmaI= 4.8 beta= 0.7645\n",
      "sigmaI= 4.9 beta= 0.7645\n",
      "sigmaI= 5.0 beta= 0.7645\n",
      "sigmaI= 5.1 beta= 0.7645\n",
      "sigmaI= 5.2 beta= 0.7645\n",
      "sigmaI= 5.3 beta= 0.7645\n",
      "sigmaI= 5.4 beta= 0.7645\n",
      "sigmaI= 5.5 beta= 0.7645\n",
      "sigmaI= 5.6 beta= 0.7645\n",
      "sigmaI= 5.7 beta= 0.7645\n",
      "sigmaI= 5.8 beta= 0.7645\n",
      "sigmaI= 5.9 beta= 0.7645\n",
      "sigmaI= 6.0 beta= 0.7645\n",
      "sigmaI= 6.1 beta= 0.7645\n",
      "sigmaI= 6.2 beta= 0.7645\n",
      "sigmaI= 6.3 beta= 0.7645\n",
      "sigmaI= 6.4 beta= 0.7645\n",
      "sigmaI= 6.5 beta= 0.7645\n",
      "sigmaI= 6.6 beta= 0.7645\n",
      "sigmaI= 6.7 beta= 0.7645\n",
      "sigmaI= 6.8 beta= 0.7645\n",
      "sigmaI= 6.9 beta= 0.7645\n",
      "sigmaI= 7.0 beta= 0.7645\n",
      "sigmaI= 7.1 beta= 0.7645\n",
      "sigmaI= 7.2 beta= 0.7645\n",
      "sigmaI= 7.3 beta= 0.7645\n",
      "sigmaI= 7.4 beta= 0.7645\n",
      "sigmaI= 7.5 beta= 0.7645\n",
      "sigmaI= 7.6 beta= 0.7645\n",
      "sigmaI= 7.7 beta= 0.7645\n",
      "sigmaI= 7.8 beta= 0.7645\n",
      "sigmaI= 7.9 beta= 0.7645\n",
      "sigmaI= 8.0 beta= 0.7645\n",
      "sigmaI= 8.1 beta= 0.7645\n",
      "sigmaI= 8.2 beta= 0.7645\n",
      "sigmaI= 8.3 beta= 0.7645\n",
      "sigmaI= 8.4 beta= 0.7645\n",
      "sigmaI= 8.5 beta= 0.7645\n",
      "sigmaI= 8.6 beta= 0.7645\n",
      "sigmaI= 8.7 beta= 0.7645\n",
      "sigmaI= 8.8 beta= 0.7645\n",
      "sigmaI= 8.9 beta= 0.7645\n",
      "sigmaI= 9.0 beta= 0.7645\n",
      "sigmaI= 9.1 beta= 0.7645\n",
      "sigmaI= 9.2 beta= 0.7645\n",
      "sigmaI= 9.3 beta= 0.7645\n",
      "sigmaI= 9.4 beta= 0.7645\n",
      "sigmaI= 9.5 beta= 0.7645\n",
      "sigmaI= 9.6 beta= 0.7645\n",
      "sigmaI= 9.7 beta= 0.7645\n",
      "sigmaI= 9.8 beta= 0.7645\n",
      "sigmaI= 9.9 beta= 0.7645\n",
      "sigmaI= 10.0 beta= 0.7645\n"
     ]
    }
   ],
   "source": [
    "for i in sigmaIvals:\n",
    "    sigmaI = i \n",
    "    for j in betamvals:\n",
    "        betam = j \n",
    "             \n",
    "        x0 = [0.8,0.5,0.05]\n",
    "        xs = odeint(resident,x0,ts2)\n",
    "        Ss = xs[:,0]\n",
    "        I1s = xs[:,1]\n",
    "        D11s = xs[:,2]\n",
    "\n",
    "        S=Ss[999]\n",
    "        I1=I1s[999]\n",
    "        D11=D11s[999]\n",
    "        \n",
    "        dr = fitnessgrad()\n",
    "        if dr < 0:\n",
    "            sings = (j + (j-0.001))/2\n",
    "            print(\"sigmaI=\",sigmaI,\"beta=\",sings)\n",
    "            singstratsi.append(sings)\n",
    "            break "
   ]
  },
  {
   "cell_type": "code",
   "execution_count": 42,
   "metadata": {},
   "outputs": [
    {
     "data": {
      "text/plain": [
       "(0.6, 1.0)"
      ]
     },
     "execution_count": 42,
     "metadata": {},
     "output_type": "execute_result"
    },
    {
     "data": {
      "image/png": "[encoded data removed]",
      "text/plain": [
       "<Figure size 432x288 with 1 Axes>"
      ]
     },
     "metadata": {
      "needs_background": "light"
     },
     "output_type": "display_data"
    }
   ],
   "source": [
    "positions = (0,1,2,3,4,5,6,7,8,9,10)\n",
    "plt.xticks(positions)\n",
    "plt.plot(sigmaIvals,singstratsi)\n",
    "plt.xlabel(r'Vulnerability of Infected Hosts, $\\sigma_I$',fontsize=18)\n",
    "plt.ylabel(r'Singular Strategy, $\\beta_1$',fontsize=18)\n",
    "plt.xlim(0,10)\n",
    "plt.ylim(0.6,1)"
   ]
  },
  {
   "cell_type": "code",
   "execution_count": null,
   "metadata": {},
   "outputs": [],
   "source": []
  }
 ],
 "metadata": {
  "kernelspec": {
   "display_name": "Python 3",
   "language": "python",
   "name": "python3"
  },
  "language_info": {
   "codemirror_mode": {
    "name": "ipython",
    "version": 3
   },
   "file_extension": ".py",
   "mimetype": "text/x-python",
   "name": "python",
   "nbconvert_exporter": "python",
   "pygments_lexer": "ipython3",
   "version": "3.8.3"
  }
 },
 "nbformat": 4,
 "nbformat_minor": 4
}
