{
 "cells": [
  {
   "cell_type": "code",
   "execution_count": 25,
   "metadata": {},
   "outputs": [],
   "source": [
    "import numpy as np\n",
    "import matplotlib.pyplot as plt\n",
    "from scipy.integrate import odeint\n",
    "%matplotlib inline"
   ]
  },
  {
   "cell_type": "code",
   "execution_count": 26,
   "metadata": {},
   "outputs": [],
   "source": [
    "def resident(x, t):\n",
    "    lamda = (beta1*(x[1]+x[2]))\n",
    "    sdot = rho - mu*x[0] - sigmaS*lamda*x[0] + phi1*x[1] + phi11*x[2]\n",
    "    i1dot = sigmaS*lamda*x[0] - (mu+alpha1+phi1+(sigmaI*lamda))*x[1]\n",
    "    d11dot = sigmaI*lamda*x[1] - (mu+alpha1+phi11)*x[2]\n",
    "    return sdot,i1dot,d11dot"
   ]
  },
  {
   "cell_type": "code",
   "execution_count": 27,
   "metadata": {},
   "outputs": [],
   "source": [
    "mu = 0.02\n",
    "rho = 0.02\n",
    "sigmaS = 1\n",
    "sigmaI = 5\n",
    "phi1 = 0.4\n",
    "phi11 = 0.2\n",
    "\n",
    "beta1=0.75\n",
    "alpha1 = 0.1 - 0.157**2/0.2*(1 - np.exp(0.2*(beta1 - 0.75)/0.157))\n",
    "\n",
    "phim = 0.45\n",
    "phi1m = 0.25"
   ]
  },
  {
   "cell_type": "code",
   "execution_count": 28,
   "metadata": {},
   "outputs": [],
   "source": [
    "tmax2 = 2000\n",
    "ts2 = np.linspace(0,200,tmax2)"
   ]
  },
  {
   "cell_type": "code",
   "execution_count": 29,
   "metadata": {},
   "outputs": [],
   "source": [
    "x0 = [0.8,0.5,0.05]\n",
    "xs = odeint(resident,x0,ts2)\n",
    "Ss = xs[:,0]\n",
    "I1s = xs[:,1]\n",
    "D11s = xs[:,2]\n",
    "\n",
    "S=Ss[1999]\n",
    "I1=I1s[1999]\n",
    "D11=D11s[1999]"
   ]
  },
  {
   "cell_type": "code",
   "execution_count": 30,
   "metadata": {},
   "outputs": [],
   "source": [
    "def fitnessgrad():\n",
    "    lambda1=(betam*(I1+D11))\n",
    "    alpham = 0.1 - 0.157**2/0.2*(1 - np.exp(0.2*(betam - 0.75)/0.157))\n",
    "    alphamd = 0.157*np.exp(0.2*(betam - 0.75)/0.157)\n",
    "    dr = sigmaS*S*(((mu+alpham+phim+(sigmaI*lambda1)-(betam*alphamd))/((mu+alpham+phim+(sigmaI*lambda1))**2))+(((sigmaI*lambda1)/(mu+alpham+phim+(sigmaI*lambda1)))*(((mu+alpham+phi1m-(betam*alphamd))/((mu+alpham+phi1m)**2))-((((betam*alphamd)/(mu+alpham+phi1m)))/(mu+alpham+phim+(sigmaI*lambda1)))))) + sigmaI*I1*((1/(mu+alpham+phi1m))-((betam*alphamd)/((mu+alpham+phi1m)**2)))\n",
    "    return dr "
   ]
  },
  {
   "cell_type": "code",
   "execution_count": 31,
   "metadata": {},
   "outputs": [],
   "source": [
    "ts = np.linspace(0,100,100)"
   ]
  },
  {
   "cell_type": "markdown",
   "metadata": {},
   "source": [
    "# $\\mu$"
   ]
  },
  {
   "cell_type": "code",
   "execution_count": 32,
   "metadata": {},
   "outputs": [],
   "source": [
    "muvals = np.around(np.arange(start=0, stop=0.051, step=0.001),decimals=3)\n",
    "betamvals = np.around(np.arange(start=0, stop=2.0001, step=0.0001),decimals=4)\n",
    "singstratmu=[]"
   ]
  },
  {
   "cell_type": "code",
   "execution_count": 33,
   "metadata": {},
   "outputs": [
    {
     "name": "stdout",
     "output_type": "stream",
     "text": [
      "mu = 0.0 beta = 1.42095\n",
      "mu = 0.001 beta = 1.4231500000000001\n",
      "mu = 0.002 beta = 1.42545\n",
      "mu = 0.003 beta = 1.42775\n",
      "mu = 0.004 beta = 1.43005\n",
      "mu = 0.005 beta = 1.4324500000000002\n",
      "mu = 0.006 beta = 1.4349500000000002\n",
      "mu = 0.007 beta = 1.43735\n",
      "mu = 0.008 beta = 1.43995\n",
      "mu = 0.009 beta = 1.44245\n",
      "mu = 0.01 beta = 1.44495\n",
      "mu = 0.011 beta = 1.4473500000000001\n",
      "mu = 0.012 beta = 1.44965\n",
      "mu = 0.013 beta = 1.4518499999999999\n",
      "mu = 0.014 beta = 1.45385\n",
      "mu = 0.015 beta = 1.4555500000000001\n",
      "mu = 0.016 beta = 1.4570500000000002\n",
      "mu = 0.017 beta = 1.45865\n",
      "mu = 0.018 beta = 1.46055\n",
      "mu = 0.019 beta = 1.46395\n",
      "mu = 0.02 beta = 1.47085\n",
      "mu = 0.021 beta = 1.4859499999999999\n",
      "mu = 0.022 beta = 1.5155500000000002\n",
      "mu = 0.023 beta = 1.55965\n",
      "mu = 0.024 beta = 1.6047500000000001\n",
      "mu = 0.025 beta = 1.6374499999999999\n",
      "mu = 0.026 beta = 1.65645\n",
      "mu = 0.027 beta = 1.66655\n",
      "mu = 0.028 beta = 1.67185\n",
      "mu = 0.029 beta = 1.6748500000000002\n",
      "mu = 0.03 beta = 1.67665\n",
      "mu = 0.031 beta = 1.6780499999999998\n",
      "mu = 0.032 beta = 1.67915\n",
      "mu = 0.033 beta = 1.6801499999999998\n",
      "mu = 0.034 beta = 1.6811500000000001\n",
      "mu = 0.035 beta = 1.6820499999999998\n",
      "mu = 0.036 beta = 1.68295\n",
      "mu = 0.037 beta = 1.68385\n",
      "mu = 0.038 beta = 1.68485\n",
      "mu = 0.039 beta = 1.68575\n",
      "mu = 0.04 beta = 1.6866500000000002\n",
      "mu = 0.041 beta = 1.6875499999999999\n",
      "mu = 0.042 beta = 1.68845\n",
      "mu = 0.043 beta = 1.68925\n",
      "mu = 0.044 beta = 1.69015\n",
      "mu = 0.045 beta = 1.6910500000000002\n",
      "mu = 0.046 beta = 1.6919499999999998\n",
      "mu = 0.047 beta = 1.69285\n",
      "mu = 0.048 beta = 1.69375\n",
      "mu = 0.049 beta = 1.6946500000000002\n",
      "mu = 0.05 beta = 1.69555\n"
     ]
    }
   ],
   "source": [
    "for i in muvals:\n",
    "    mu = i \n",
    "    for j in betamvals:\n",
    "        betam = j\n",
    "        \n",
    "        x0 = [0.8,0.5,0.05]\n",
    "        xs = odeint(resident,x0,ts)\n",
    "        Ss = xs[:,0]\n",
    "        I1s = xs[:,1]\n",
    "        D11s = xs[:,2]\n",
    "\n",
    "        S=Ss[99]\n",
    "        I1=I1s[99]\n",
    "        D11=D11s[99]\n",
    "        \n",
    "        dr = fitnessgrad()\n",
    "        \n",
    "        if dr < 0:\n",
    "            sings = (j + (j-0.0001))/2\n",
    "            print(\"mu =\",mu,\"beta =\",sings)\n",
    "            singstratmu.append(sings)\n",
    "            break"
   ]
  },
  {
   "cell_type": "code",
   "execution_count": 34,
   "metadata": {},
   "outputs": [
    {
     "data": {
      "text/plain": [
       "(1.0, 2.0)"
      ]
     },
     "execution_count": 34,
     "metadata": {},
     "output_type": "execute_result"
    },
    {
     "data": {
      "image/png": "[encoded data removed]",
      "text/plain": [
       "<Figure size 432x288 with 1 Axes>"
      ]
     },
     "metadata": {
      "needs_background": "light"
     },
     "output_type": "display_data"
    }
   ],
   "source": [
    "plt.plot(muvals,singstratmu)\n",
    "plt.xlabel(r'Host Mortality Rate, $\\mu$',fontsize=18)\n",
    "plt.ylabel(r'Singular Strategy, $\\beta_1$',fontsize=18)\n",
    "plt.xlim(0,0.05) # in  maple first value of mu used is 0.005. limiting x-axis to this range\n",
    "plt.ylim(1,2) "
   ]
  },
  {
   "cell_type": "markdown",
   "metadata": {},
   "source": [
    "# $\\rho$"
   ]
  },
  {
   "cell_type": "code",
   "execution_count": 35,
   "metadata": {},
   "outputs": [],
   "source": [
    "mu=0.02\n",
    "rhovals = np.around(np.arange(start=0.00000000000000000000000000000000000000000000000001, stop=0.051, step=0.001),decimals=3)\n",
    "betamvals = np.around(np.arange(start=0, stop=2.001, step=0.001),decimals=3)\n",
    "singstratrho=[]"
   ]
  },
  {
   "cell_type": "code",
   "execution_count": 36,
   "metadata": {},
   "outputs": [
    {
     "name": "stdout",
     "output_type": "stream",
     "text": [
      "rho = 0.0 beta = 1.6685\n",
      "rho = 0.001 beta = 1.6685\n",
      "rho = 0.002 beta = 1.6685\n",
      "rho = 0.003 beta = 1.6685\n",
      "rho = 0.004 beta = 1.6685\n",
      "rho = 0.005 beta = 1.6685\n",
      "rho = 0.006 beta = 1.6685\n",
      "rho = 0.007 beta = 1.6685\n",
      "rho = 0.008 beta = 1.6685\n",
      "rho = 0.009 beta = 1.6685\n",
      "rho = 0.01 beta = 1.6685\n",
      "rho = 0.011 beta = 1.6685\n",
      "rho = 0.012 beta = 1.6685\n",
      "rho = 0.013 beta = 1.6685\n",
      "rho = 0.014 beta = 1.6675\n",
      "rho = 0.015 beta = 1.6655\n",
      "rho = 0.016 beta = 1.6575\n",
      "rho = 0.017 beta = 1.6295\n",
      "rho = 0.018 beta = 1.5645\n",
      "rho = 0.019 beta = 1.4975\n",
      "rho = 0.02 beta = 1.4705000000000001\n",
      "rho = 0.021 beta = 1.4645000000000001\n",
      "rho = 0.022 beta = 1.4645000000000001\n",
      "rho = 0.023 beta = 1.4645000000000001\n",
      "rho = 0.024 beta = 1.4635\n",
      "rho = 0.025 beta = 1.4625000000000001\n",
      "rho = 0.026 beta = 1.4615\n",
      "rho = 0.027 beta = 1.4595\n",
      "rho = 0.028 beta = 1.4585000000000001\n",
      "rho = 0.029 beta = 1.4565000000000001\n",
      "rho = 0.03 beta = 1.4555\n",
      "rho = 0.031 beta = 1.4535\n",
      "rho = 0.032 beta = 1.4525000000000001\n",
      "rho = 0.033 beta = 1.4515\n",
      "rho = 0.034 beta = 1.4505000000000001\n",
      "rho = 0.035 beta = 1.4505000000000001\n",
      "rho = 0.036 beta = 1.4495\n",
      "rho = 0.037 beta = 1.4485000000000001\n",
      "rho = 0.038 beta = 1.4485000000000001\n",
      "rho = 0.039 beta = 1.4475\n",
      "rho = 0.04 beta = 1.4475\n",
      "rho = 0.041 beta = 1.4465000000000001\n",
      "rho = 0.042 beta = 1.4465000000000001\n",
      "rho = 0.043 beta = 1.4455\n",
      "rho = 0.044 beta = 1.4455\n",
      "rho = 0.045 beta = 1.4455\n",
      "rho = 0.046 beta = 1.4445000000000001\n",
      "rho = 0.047 beta = 1.4445000000000001\n",
      "rho = 0.048 beta = 1.4445000000000001\n",
      "rho = 0.049 beta = 1.4445000000000001\n",
      "rho = 0.05 beta = 1.4435\n"
     ]
    }
   ],
   "source": [
    "for i in rhovals:\n",
    "    rho = i \n",
    "    for j in betamvals:\n",
    "        betam = j \n",
    "             \n",
    "        x0 = [0.8,0.5,0.05]\n",
    "        xs = odeint(resident,x0,ts)\n",
    "        Ss = xs[:,0]\n",
    "        I1s = xs[:,1]\n",
    "        D11s = xs[:,2]\n",
    "\n",
    "        S=Ss[99]\n",
    "        I1=I1s[99]\n",
    "        D11=D11s[99]\n",
    "        \n",
    "        dr = fitnessgrad()\n",
    "        \n",
    "        if dr < 0:\n",
    "            sings = (j + (j-0.001))/2\n",
    "            print(\"rho =\",rho,\"beta =\",sings)\n",
    "            singstratrho.append(sings)\n",
    "            break "
   ]
  },
  {
   "cell_type": "code",
   "execution_count": 37,
   "metadata": {},
   "outputs": [
    {
     "data": {
      "text/plain": [
       "(1.0, 2.0)"
      ]
     },
     "execution_count": 37,
     "metadata": {},
     "output_type": "execute_result"
    },
    {
     "data": {
      "image/png": "[encoded data removed]",
      "text/plain": [
       "<Figure size 432x288 with 1 Axes>"
      ]
     },
     "metadata": {
      "needs_background": "light"
     },
     "output_type": "display_data"
    }
   ],
   "source": [
    "plt.plot(rhovals,singstratrho)\n",
    "plt.xlabel(r'Host Birth Rate, $\\rho$',fontsize=18)\n",
    "plt.ylabel(r'Singular Strategy, $\\beta_1$',fontsize=18)\n",
    "plt.xlim(0.005,0.05) # in  maple first value of rho used is 0.005. limiting x-axis to this range\n",
    "plt.ylim(1,2) "
   ]
  },
  {
   "cell_type": "markdown",
   "metadata": {},
   "source": [
    "# $\\sigma_S$"
   ]
  },
  {
   "cell_type": "code",
   "execution_count": 38,
   "metadata": {},
   "outputs": [],
   "source": [
    "rho=0.02\n",
    "sigmaSvals = np.around(np.arange(start=1, stop=10.1, step=0.1),decimals=1)\n",
    "betamvals = np.around(np.arange(start=0, stop=2.001, step=0.001),decimals=3)\n",
    "singstratss=[]"
   ]
  },
  {
   "cell_type": "code",
   "execution_count": 39,
   "metadata": {},
   "outputs": [
    {
     "name": "stdout",
     "output_type": "stream",
     "text": [
      "sigmaS = 1.0 beta = 1.4705000000000001\n",
      "sigmaS = 1.1 beta = 1.4675\n",
      "sigmaS = 1.2 beta = 1.4695\n",
      "sigmaS = 1.3 beta = 1.4705000000000001\n",
      "sigmaS = 1.4 beta = 1.4695\n",
      "sigmaS = 1.5 beta = 1.4685000000000001\n",
      "sigmaS = 1.6 beta = 1.4665000000000001\n",
      "sigmaS = 1.7 beta = 1.4655\n",
      "sigmaS = 1.8 beta = 1.4645000000000001\n",
      "sigmaS = 1.9 beta = 1.4635\n",
      "sigmaS = 2.0 beta = 1.4635\n",
      "sigmaS = 2.1 beta = 1.4625000000000001\n",
      "sigmaS = 2.2 beta = 1.4625000000000001\n",
      "sigmaS = 2.3 beta = 1.4615\n",
      "sigmaS = 2.4 beta = 1.4615\n",
      "sigmaS = 2.5 beta = 1.4605000000000001\n",
      "sigmaS = 2.6 beta = 1.4605000000000001\n",
      "sigmaS = 2.7 beta = 1.4605000000000001\n",
      "sigmaS = 2.8 beta = 1.4595\n",
      "sigmaS = 2.9 beta = 1.4595\n",
      "sigmaS = 3.0 beta = 1.4595\n",
      "sigmaS = 3.1 beta = 1.4595\n",
      "sigmaS = 3.2 beta = 1.4595\n",
      "sigmaS = 3.3 beta = 1.4585000000000001\n",
      "sigmaS = 3.4 beta = 1.4585000000000001\n",
      "sigmaS = 3.5 beta = 1.4585000000000001\n",
      "sigmaS = 3.6 beta = 1.4585000000000001\n",
      "sigmaS = 3.7 beta = 1.4585000000000001\n",
      "sigmaS = 3.8 beta = 1.4585000000000001\n",
      "sigmaS = 3.9 beta = 1.4585000000000001\n",
      "sigmaS = 4.0 beta = 1.4575\n",
      "sigmaS = 4.1 beta = 1.4575\n",
      "sigmaS = 4.2 beta = 1.4575\n",
      "sigmaS = 4.3 beta = 1.4575\n",
      "sigmaS = 4.4 beta = 1.4575\n",
      "sigmaS = 4.5 beta = 1.4575\n",
      "sigmaS = 4.6 beta = 1.4575\n",
      "sigmaS = 4.7 beta = 1.4575\n",
      "sigmaS = 4.8 beta = 1.4575\n",
      "sigmaS = 4.9 beta = 1.4575\n",
      "sigmaS = 5.0 beta = 1.4575\n",
      "sigmaS = 5.1 beta = 1.4575\n",
      "sigmaS = 5.2 beta = 1.4575\n",
      "sigmaS = 5.3 beta = 1.4565000000000001\n",
      "sigmaS = 5.4 beta = 1.4565000000000001\n",
      "sigmaS = 5.5 beta = 1.4565000000000001\n",
      "sigmaS = 5.6 beta = 1.4565000000000001\n",
      "sigmaS = 5.7 beta = 1.4565000000000001\n",
      "sigmaS = 5.8 beta = 1.4565000000000001\n",
      "sigmaS = 5.9 beta = 1.4565000000000001\n",
      "sigmaS = 6.0 beta = 1.4565000000000001\n",
      "sigmaS = 6.1 beta = 1.4565000000000001\n",
      "sigmaS = 6.2 beta = 1.4565000000000001\n",
      "sigmaS = 6.3 beta = 1.4565000000000001\n",
      "sigmaS = 6.4 beta = 1.4565000000000001\n",
      "sigmaS = 6.5 beta = 1.4565000000000001\n",
      "sigmaS = 6.6 beta = 1.4565000000000001\n",
      "sigmaS = 6.7 beta = 1.4565000000000001\n",
      "sigmaS = 6.8 beta = 1.4565000000000001\n",
      "sigmaS = 6.9 beta = 1.4565000000000001\n",
      "sigmaS = 7.0 beta = 1.4565000000000001\n",
      "sigmaS = 7.1 beta = 1.4565000000000001\n",
      "sigmaS = 7.2 beta = 1.4565000000000001\n",
      "sigmaS = 7.3 beta = 1.4565000000000001\n",
      "sigmaS = 7.4 beta = 1.4565000000000001\n",
      "sigmaS = 7.5 beta = 1.4565000000000001\n",
      "sigmaS = 7.6 beta = 1.4565000000000001\n",
      "sigmaS = 7.7 beta = 1.4565000000000001\n",
      "sigmaS = 7.8 beta = 1.4565000000000001\n",
      "sigmaS = 7.9 beta = 1.4565000000000001\n",
      "sigmaS = 8.0 beta = 1.4565000000000001\n",
      "sigmaS = 8.1 beta = 1.4565000000000001\n",
      "sigmaS = 8.2 beta = 1.4565000000000001\n",
      "sigmaS = 8.3 beta = 1.4555\n",
      "sigmaS = 8.4 beta = 1.4555\n",
      "sigmaS = 8.5 beta = 1.4555\n",
      "sigmaS = 8.6 beta = 1.4555\n",
      "sigmaS = 8.7 beta = 1.4555\n",
      "sigmaS = 8.8 beta = 1.4555\n",
      "sigmaS = 8.9 beta = 1.4555\n",
      "sigmaS = 9.0 beta = 1.4555\n",
      "sigmaS = 9.1 beta = 1.4555\n",
      "sigmaS = 9.2 beta = 1.4555\n",
      "sigmaS = 9.3 beta = 1.4555\n",
      "sigmaS = 9.4 beta = 1.4555\n",
      "sigmaS = 9.5 beta = 1.4555\n",
      "sigmaS = 9.6 beta = 1.4555\n",
      "sigmaS = 9.7 beta = 1.4555\n",
      "sigmaS = 9.8 beta = 1.4555\n",
      "sigmaS = 9.9 beta = 1.4555\n",
      "sigmaS = 10.0 beta = 1.4555\n"
     ]
    }
   ],
   "source": [
    "for i in sigmaSvals:\n",
    "    sigmaS = i \n",
    "    for j in betamvals:\n",
    "        betam = j \n",
    "             \n",
    "        x0 = [0.8,0.5,0.05]\n",
    "        xs = odeint(resident,x0,ts)\n",
    "        Ss = xs[:,0]\n",
    "        I1s = xs[:,1]\n",
    "        D11s = xs[:,2]\n",
    "\n",
    "        S=Ss[99]\n",
    "        I1=I1s[99]\n",
    "        D11=D11s[99]\n",
    "        \n",
    "        dr = fitnessgrad()\n",
    "        if dr < 0:\n",
    "            sings = (j + (j-0.001))/2\n",
    "            print(\"sigmaS =\",sigmaS,\"beta =\",sings)\n",
    "            singstratss.append(sings)\n",
    "            break "
   ]
  },
  {
   "cell_type": "code",
   "execution_count": 40,
   "metadata": {},
   "outputs": [
    {
     "data": {
      "text/plain": [
       "(1.0, 2.0)"
      ]
     },
     "execution_count": 40,
     "metadata": {},
     "output_type": "execute_result"
    },
    {
     "data": {
      "image/png": "[encoded data removed]",
      "text/plain": [
       "<Figure size 432x288 with 1 Axes>"
      ]
     },
     "metadata": {
      "needs_background": "light"
     },
     "output_type": "display_data"
    }
   ],
   "source": [
    "plt.plot(sigmaSvals,singstratss)\n",
    "plt.xlabel(r'Vulnerability of Susceptible Hosts, $\\sigma_S$',fontsize=18)\n",
    "plt.ylabel(r'Singular Strategy, $\\beta_1$',fontsize=18)\n",
    "plt.xlim(1,10)\n",
    "plt.ylim(1,2)"
   ]
  },
  {
   "cell_type": "markdown",
   "metadata": {},
   "source": [
    "# $\\sigma_I$"
   ]
  },
  {
   "cell_type": "code",
   "execution_count": 41,
   "metadata": {},
   "outputs": [],
   "source": [
    "sigmaS=1\n",
    "sigmaIvals = np.around(np.arange(start=1, stop=10.1, step=0.1),decimals=1)\n",
    "betamvals = np.around(np.arange(start=0, stop=2.001, step=0.001),decimals=3)\n",
    "singstratsi=[]"
   ]
  },
  {
   "cell_type": "code",
   "execution_count": 42,
   "metadata": {},
   "outputs": [
    {
     "name": "stdout",
     "output_type": "stream",
     "text": [
      "sigmaI = 1.0 beta = 1.5905\n",
      "sigmaI = 1.1 beta = 1.5835000000000001\n",
      "sigmaI = 1.2 beta = 1.5775000000000001\n",
      "sigmaI = 1.3 beta = 1.5725\n",
      "sigmaI = 1.4 beta = 1.5665\n",
      "sigmaI = 1.5 beta = 1.5615\n",
      "sigmaI = 1.6 beta = 1.5565\n",
      "sigmaI = 1.7 beta = 1.5515\n",
      "sigmaI = 1.8 beta = 1.5475\n",
      "sigmaI = 1.9 beta = 1.5435\n",
      "sigmaI = 2.0 beta = 1.5395\n",
      "sigmaI = 2.1 beta = 1.5355\n",
      "sigmaI = 2.2 beta = 1.5315\n",
      "sigmaI = 2.3 beta = 1.5275\n",
      "sigmaI = 2.4 beta = 1.5245\n",
      "sigmaI = 2.5 beta = 1.5205\n",
      "sigmaI = 2.6 beta = 1.5175\n",
      "sigmaI = 2.7 beta = 1.5145\n",
      "sigmaI = 2.8 beta = 1.5115\n",
      "sigmaI = 2.9 beta = 1.5085\n",
      "sigmaI = 3.0 beta = 1.5065\n",
      "sigmaI = 3.1 beta = 1.5035\n",
      "sigmaI = 3.2 beta = 1.5015\n",
      "sigmaI = 3.3 beta = 1.4985000000000002\n",
      "sigmaI = 3.4 beta = 1.4965000000000002\n",
      "sigmaI = 3.5 beta = 1.4945000000000002\n",
      "sigmaI = 3.6 beta = 1.4925000000000002\n",
      "sigmaI = 3.7 beta = 1.4905000000000002\n",
      "sigmaI = 3.8 beta = 1.4885000000000002\n",
      "sigmaI = 3.9 beta = 1.4865000000000002\n",
      "sigmaI = 4.0 beta = 1.4845000000000002\n",
      "sigmaI = 4.1 beta = 1.4825000000000002\n",
      "sigmaI = 4.2 beta = 1.4815\n",
      "sigmaI = 4.3 beta = 1.4795\n",
      "sigmaI = 4.4 beta = 1.4785000000000001\n",
      "sigmaI = 4.5 beta = 1.4765000000000001\n",
      "sigmaI = 4.6 beta = 1.4755\n",
      "sigmaI = 4.7 beta = 1.4745000000000001\n",
      "sigmaI = 4.8 beta = 1.4735\n",
      "sigmaI = 4.9 beta = 1.4715\n",
      "sigmaI = 5.0 beta = 1.4705000000000001\n",
      "sigmaI = 5.1 beta = 1.4695\n",
      "sigmaI = 5.2 beta = 1.4685000000000001\n",
      "sigmaI = 5.3 beta = 1.4675\n",
      "sigmaI = 5.4 beta = 1.4665000000000001\n",
      "sigmaI = 5.5 beta = 1.4665000000000001\n",
      "sigmaI = 5.6 beta = 1.4655\n",
      "sigmaI = 5.7 beta = 1.4645000000000001\n",
      "sigmaI = 5.8 beta = 1.4635\n",
      "sigmaI = 5.9 beta = 1.4625000000000001\n",
      "sigmaI = 6.0 beta = 1.4625000000000001\n",
      "sigmaI = 6.1 beta = 1.4615\n",
      "sigmaI = 6.2 beta = 1.4605000000000001\n",
      "sigmaI = 6.3 beta = 1.4605000000000001\n",
      "sigmaI = 6.4 beta = 1.4595\n",
      "sigmaI = 6.5 beta = 1.4595\n",
      "sigmaI = 6.6 beta = 1.4585000000000001\n",
      "sigmaI = 6.7 beta = 1.4585000000000001\n",
      "sigmaI = 6.8 beta = 1.4575\n",
      "sigmaI = 6.9 beta = 1.4575\n",
      "sigmaI = 7.0 beta = 1.4565000000000001\n",
      "sigmaI = 7.1 beta = 1.4565000000000001\n",
      "sigmaI = 7.2 beta = 1.4555\n",
      "sigmaI = 7.3 beta = 1.4555\n",
      "sigmaI = 7.4 beta = 1.4555\n",
      "sigmaI = 7.5 beta = 1.4545000000000001\n",
      "sigmaI = 7.6 beta = 1.4545000000000001\n",
      "sigmaI = 7.7 beta = 1.4545000000000001\n",
      "sigmaI = 7.8 beta = 1.4535\n",
      "sigmaI = 7.9 beta = 1.4535\n",
      "sigmaI = 8.0 beta = 1.4535\n",
      "sigmaI = 8.1 beta = 1.4535\n",
      "sigmaI = 8.2 beta = 1.4525000000000001\n",
      "sigmaI = 8.3 beta = 1.4525000000000001\n",
      "sigmaI = 8.4 beta = 1.4525000000000001\n",
      "sigmaI = 8.5 beta = 1.4515\n",
      "sigmaI = 8.6 beta = 1.4515\n",
      "sigmaI = 8.7 beta = 1.4515\n",
      "sigmaI = 8.8 beta = 1.4515\n",
      "sigmaI = 8.9 beta = 1.4515\n",
      "sigmaI = 9.0 beta = 1.4505000000000001\n",
      "sigmaI = 9.1 beta = 1.4505000000000001\n",
      "sigmaI = 9.2 beta = 1.4505000000000001\n",
      "sigmaI = 9.3 beta = 1.4505000000000001\n",
      "sigmaI = 9.4 beta = 1.4505000000000001\n",
      "sigmaI = 9.5 beta = 1.4505000000000001\n",
      "sigmaI = 9.6 beta = 1.4495\n",
      "sigmaI = 9.7 beta = 1.4495\n",
      "sigmaI = 9.8 beta = 1.4495\n",
      "sigmaI = 9.9 beta = 1.4495\n",
      "sigmaI = 10.0 beta = 1.4495\n"
     ]
    }
   ],
   "source": [
    "for i in sigmaIvals:\n",
    "    sigmaI = i \n",
    "    for j in betamvals:\n",
    "        betam = j \n",
    "             \n",
    "        x0 = [0.8,0.5,0.05]\n",
    "        xs = odeint(resident,x0,ts)\n",
    "        Ss = xs[:,0]\n",
    "        I1s = xs[:,1]\n",
    "        D11s = xs[:,2]\n",
    "\n",
    "        S=Ss[99]\n",
    "        I1=I1s[99]\n",
    "        D11=D11s[99]\n",
    "        \n",
    "        dr = fitnessgrad()\n",
    "        if dr < 0:\n",
    "            sings = (j + (j-0.001))/2\n",
    "            print(\"sigmaI =\",sigmaI,\"beta =\",sings)\n",
    "            singstratsi.append(sings)\n",
    "            break "
   ]
  },
  {
   "cell_type": "code",
   "execution_count": 43,
   "metadata": {},
   "outputs": [
    {
     "data": {
      "text/plain": [
       "(1.0, 2.0)"
      ]
     },
     "execution_count": 43,
     "metadata": {},
     "output_type": "execute_result"
    },
    {
     "data": {
      "image/png": "[encoded data removed]",
      "text/plain": [
       "<Figure size 432x288 with 1 Axes>"
      ]
     },
     "metadata": {
      "needs_background": "light"
     },
     "output_type": "display_data"
    }
   ],
   "source": [
    "plt.plot(sigmaIvals,singstratsi)\n",
    "plt.xlabel(r'Vulnerability of Infected Hosts, $\\sigma_I$',fontsize=18)\n",
    "plt.ylabel(r'Singular Strategy, $\\beta_1$',fontsize=18)\n",
    "plt.xlim(1,10)\n",
    "plt.ylim(1,2)"
   ]
  },
  {
   "cell_type": "code",
   "execution_count": null,
   "metadata": {},
   "outputs": [],
   "source": [
    " "
   ]
  }
 ],
 "metadata": {
  "kernelspec": {
   "display_name": "Python 3",
   "language": "python",
   "name": "python3"
  },
  "language_info": {
   "codemirror_mode": {
    "name": "ipython",
    "version": 3
   },
   "file_extension": ".py",
   "mimetype": "text/x-python",
   "name": "python",
   "nbconvert_exporter": "python",
   "pygments_lexer": "ipython3",
   "version": "3.8.3"
  }
 },
 "nbformat": 4,
 "nbformat_minor": 4
}
